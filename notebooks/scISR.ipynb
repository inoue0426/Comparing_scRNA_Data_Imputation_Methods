{
  "nbformat": 4,
  "nbformat_minor": 0,
  "metadata": {
    "colab": {
      "name": "scISR",
      "provenance": [],
      "authorship_tag": "ABX9TyPaABajadi7uXUT7shFaJCL",
      "include_colab_link": true
    },
    "kernelspec": {
      "name": "ir",
      "display_name": "R"
    },
    "language_info": {
      "name": "R"
    }
  },
  "cells": [
    {
      "cell_type": "markdown",
      "metadata": {
        "id": "view-in-github",
        "colab_type": "text"
      },
      "source": [
        "<a href=\"https://colab.research.google.com/github/inoue0426/scRNA-Data-Imputation-comparison/blob/main/notebooks/scISR.ipynb\" target=\"_parent\"><img src=\"https://colab.research.google.com/assets/colab-badge.svg\" alt=\"Open In Colab\"/></a>"
      ]
    },
    {
      "cell_type": "code",
      "source": [
        "utils::install.packages('devtools')"
      ],
      "metadata": {
        "colab": {
          "base_uri": "https://localhost:8080/"
        },
        "id": "ke7nrRfZH1Ex",
        "outputId": "0a9d0656-8f3a-4b91-dc87-ad0af3a8b878"
      },
      "execution_count": null,
      "outputs": [
        {
          "output_type": "stream",
          "name": "stderr",
          "text": [
            "Installing package into ‘/usr/local/lib/R/site-library’\n",
            "(as ‘lib’ is unspecified)\n",
            "\n"
          ]
        }
      ]
    },
    {
      "cell_type": "code",
      "source": [
        "if (!require(\"BiocManager\", quietly = TRUE))\n",
        "    install.packages(\"BiocManager\")\n",
        "BiocManager::install(\"impute\")"
      ],
      "metadata": {
        "colab": {
          "base_uri": "https://localhost:8080/"
        },
        "id": "LrkR-I-9Jn3I",
        "outputId": "f2fd195d-afcc-4999-b749-8588180c7719"
      },
      "execution_count": null,
      "outputs": [
        {
          "output_type": "stream",
          "name": "stderr",
          "text": [
            "Installing package into ‘/usr/local/lib/R/site-library’\n",
            "(as ‘lib’ is unspecified)\n",
            "\n",
            "'getOption(\"repos\")' replaces Bioconductor standard repositories, see\n",
            "'?repositories' for details\n",
            "\n",
            "replacement repositories:\n",
            "    CRAN: https://cran.rstudio.com\n",
            "\n",
            "\n",
            "Bioconductor version 3.14 (BiocManager 1.30.16), R 4.1.3 (2022-03-10)\n",
            "\n",
            "Installing package(s) 'BiocVersion', 'impute'\n",
            "\n",
            "Old packages: 'crayon', 'fansi', 'gert', 'knitr', 'magrittr', 'processx',\n",
            "  'readxl', 'rprojroot', 'sass', 'testthat', 'tinytex', 'tzdb', 'vctrs',\n",
            "  'cluster', 'MASS', 'Matrix', 'mgcv', 'nlme'\n",
            "\n"
          ]
        }
      ]
    },
    {
      "cell_type": "code",
      "source": [
        "devtools::install_github('duct317/scISR')"
      ],
      "metadata": {
        "colab": {
          "base_uri": "https://localhost:8080/"
        },
        "id": "abqezS80x_59",
        "outputId": "c498100d-c4ba-44ba-fee5-70c706e6a87f"
      },
      "execution_count": null,
      "outputs": [
        {
          "output_type": "stream",
          "name": "stderr",
          "text": [
            "Downloading GitHub repo duct317/scISR@HEAD\n",
            "\n"
          ]
        },
        {
          "output_type": "stream",
          "name": "stdout",
          "text": [
            "PINSPlus (NA -> 2.0.6) [CRAN]\n"
          ]
        },
        {
          "output_type": "stream",
          "name": "stderr",
          "text": [
            "Skipping 1 packages not available: impute\n",
            "\n",
            "Installing 1 packages: PINSPlus\n",
            "\n",
            "Installing package into ‘/usr/local/lib/R/site-library’\n",
            "(as ‘lib’ is unspecified)\n",
            "\n"
          ]
        },
        {
          "output_type": "stream",
          "name": "stdout",
          "text": [
            "* checking for file ‘/tmp/RtmpSR4KCU/remotes3fe4e1e5e/duct317-scISR-ea3578f/DESCRIPTION’ ... OK\n",
            "* preparing ‘scISR’:\n",
            "* checking DESCRIPTION meta-information ... OK\n",
            "* checking for LF line-endings in source and make files and shell scripts\n",
            "* checking for empty or unneeded directories\n",
            "* building ‘scISR_0.1.1.tar.gz’\n",
            "\n"
          ]
        },
        {
          "output_type": "stream",
          "name": "stderr",
          "text": [
            "Installing package into ‘/usr/local/lib/R/site-library’\n",
            "(as ‘lib’ is unspecified)\n",
            "\n"
          ]
        }
      ]
    },
    {
      "cell_type": "code",
      "source": [
        "library(scISR)"
      ],
      "metadata": {
        "id": "IEmayTWLGJmG"
      },
      "execution_count": null,
      "outputs": []
    },
    {
      "cell_type": "code",
      "source": [
        "data('Goolam')\n",
        "raw <- Goolam$data\n",
        "label <- Goolam$label"
      ],
      "metadata": {
        "id": "0iFfglfOx_8S"
      },
      "execution_count": null,
      "outputs": []
    },
    {
      "cell_type": "code",
      "source": [
        "dim(raw)"
      ],
      "metadata": {
        "colab": {
          "base_uri": "https://localhost:8080/",
          "height": 35
        },
        "id": "y-Rat_aVGIqU",
        "outputId": "ccc274a6-889b-4b2d-b197-13528db4f565"
      },
      "execution_count": null,
      "outputs": [
        {
          "output_type": "display_data",
          "data": {
            "text/html": [
              "<style>\n",
              ".list-inline {list-style: none; margin:0; padding: 0}\n",
              ".list-inline>li {display: inline-block}\n",
              ".list-inline>li:not(:last-child)::after {content: \"\\00b7\"; padding: 0 .5ex}\n",
              "</style>\n",
              "<ol class=list-inline><li>10000</li><li>124</li></ol>\n"
            ],
            "text/markdown": "1. 10000\n2. 124\n\n\n",
            "text/latex": "\\begin{enumerate*}\n\\item 10000\n\\item 124\n\\end{enumerate*}\n",
            "text/plain": [
              "[1] 10000   124"
            ]
          },
          "metadata": {}
        }
      ]
    },
    {
      "cell_type": "code",
      "source": [
        "head(raw)"
      ],
      "metadata": {
        "id": "K999R9Ypx_-3",
        "colab": {
          "base_uri": "https://localhost:8080/",
          "height": 275
        },
        "outputId": "6421c8de-d817-4ff8-d256-c1b8fc25e137"
      },
      "execution_count": null,
      "outputs": [
        {
          "output_type": "display_data",
          "data": {
            "text/html": [
              "<table class=\"dataframe\">\n",
              "<caption>A matrix: 6 × 124 of type int</caption>\n",
              "<thead>\n",
              "\t<tr><th></th><th scope=col>X2cell_1_A</th><th scope=col>X2cell_1_B</th><th scope=col>X2cell_2_A</th><th scope=col>X2cell_2_B</th><th scope=col>X2cell_3_A</th><th scope=col>X2cell_3_B</th><th scope=col>ME_4cell_1_A</th><th scope=col>ME_4cell_1_B</th><th scope=col>ME_4cell_1_C</th><th scope=col>ME_4cell_1_D</th><th scope=col>⋯</th><th scope=col>EM_4cell_5_C</th><th scope=col>EM_4cell_5_D</th><th scope=col>EM_4cell_6_A</th><th scope=col>EM_4cell_6_B</th><th scope=col>EM_4cell_6_C</th><th scope=col>EM_4cell_6_D</th><th scope=col>ME_4cell_6_A</th><th scope=col>ME_4cell_6_B</th><th scope=col>ME_4cell_6_C</th><th scope=col>ME_4cell_6_D</th></tr>\n",
              "</thead>\n",
              "<tbody>\n",
              "\t<tr><th scope=row>ENSMUSG00000038128</th><td>  0</td><td>  0</td><td>  3</td><td>  0</td><td>  0</td><td>  0</td><td> 0</td><td>  0</td><td>  0</td><td>  0</td><td>⋯</td><td>  0</td><td> 0</td><td> 0</td><td> 0</td><td>  0</td><td>  0</td><td>  0</td><td>  0</td><td>  0</td><td> 0</td></tr>\n",
              "\t<tr><th scope=row>ENSMUSG00000052767</th><td>  0</td><td>  0</td><td>  0</td><td>  0</td><td>  0</td><td>  0</td><td> 0</td><td>  0</td><td>  0</td><td>  0</td><td>⋯</td><td>  0</td><td> 0</td><td> 0</td><td> 0</td><td>  0</td><td>  0</td><td>  0</td><td>  0</td><td>  0</td><td> 0</td></tr>\n",
              "\t<tr><th scope=row>ENSMUSG00000081014</th><td>  0</td><td>  0</td><td>  0</td><td>  0</td><td>  0</td><td>  0</td><td> 0</td><td>  0</td><td>  0</td><td>  0</td><td>⋯</td><td>  0</td><td> 0</td><td> 0</td><td> 0</td><td>  0</td><td>  0</td><td>  0</td><td>  0</td><td>  0</td><td> 0</td></tr>\n",
              "\t<tr><th scope=row>ENSMUSG00000098390</th><td>  0</td><td>  0</td><td>  0</td><td>  0</td><td>  0</td><td>  0</td><td> 0</td><td>  0</td><td>  0</td><td>  0</td><td>⋯</td><td>  0</td><td> 0</td><td> 0</td><td> 0</td><td>  0</td><td>  0</td><td>  0</td><td>  0</td><td>  0</td><td> 0</td></tr>\n",
              "\t<tr><th scope=row>ENSMUSG00000031422</th><td>208</td><td>103</td><td>116</td><td>164</td><td>571</td><td>285</td><td>70</td><td>136</td><td>142</td><td>131</td><td>⋯</td><td>116</td><td>89</td><td>67</td><td>57</td><td>157</td><td>383</td><td>336</td><td>255</td><td>142</td><td>74</td></tr>\n",
              "\t<tr><th scope=row>ENSMUSG00000097968</th><td>  0</td><td>  0</td><td>  0</td><td>  0</td><td>  0</td><td>  0</td><td> 0</td><td>  0</td><td>  0</td><td>  0</td><td>⋯</td><td>  0</td><td> 0</td><td> 0</td><td> 0</td><td>  0</td><td>  0</td><td>  0</td><td>  0</td><td>  0</td><td> 0</td></tr>\n",
              "</tbody>\n",
              "</table>\n"
            ],
            "text/markdown": "\nA matrix: 6 × 124 of type int\n\n| <!--/--> | X2cell_1_A | X2cell_1_B | X2cell_2_A | X2cell_2_B | X2cell_3_A | X2cell_3_B | ME_4cell_1_A | ME_4cell_1_B | ME_4cell_1_C | ME_4cell_1_D | ⋯ | EM_4cell_5_C | EM_4cell_5_D | EM_4cell_6_A | EM_4cell_6_B | EM_4cell_6_C | EM_4cell_6_D | ME_4cell_6_A | ME_4cell_6_B | ME_4cell_6_C | ME_4cell_6_D |\n|---|---|---|---|---|---|---|---|---|---|---|---|---|---|---|---|---|---|---|---|---|---|\n| ENSMUSG00000038128 |   0 |   0 |   3 |   0 |   0 |   0 |  0 |   0 |   0 |   0 | ⋯ |   0 |  0 |  0 |  0 |   0 |   0 |   0 |   0 |   0 |  0 |\n| ENSMUSG00000052767 |   0 |   0 |   0 |   0 |   0 |   0 |  0 |   0 |   0 |   0 | ⋯ |   0 |  0 |  0 |  0 |   0 |   0 |   0 |   0 |   0 |  0 |\n| ENSMUSG00000081014 |   0 |   0 |   0 |   0 |   0 |   0 |  0 |   0 |   0 |   0 | ⋯ |   0 |  0 |  0 |  0 |   0 |   0 |   0 |   0 |   0 |  0 |\n| ENSMUSG00000098390 |   0 |   0 |   0 |   0 |   0 |   0 |  0 |   0 |   0 |   0 | ⋯ |   0 |  0 |  0 |  0 |   0 |   0 |   0 |   0 |   0 |  0 |\n| ENSMUSG00000031422 | 208 | 103 | 116 | 164 | 571 | 285 | 70 | 136 | 142 | 131 | ⋯ | 116 | 89 | 67 | 57 | 157 | 383 | 336 | 255 | 142 | 74 |\n| ENSMUSG00000097968 |   0 |   0 |   0 |   0 |   0 |   0 |  0 |   0 |   0 |   0 | ⋯ |   0 |  0 |  0 |  0 |   0 |   0 |   0 |   0 |   0 |  0 |\n\n",
            "text/latex": "A matrix: 6 × 124 of type int\n\\begin{tabular}{r|lllllllllllllllllllll}\n  & X2cell\\_1\\_A & X2cell\\_1\\_B & X2cell\\_2\\_A & X2cell\\_2\\_B & X2cell\\_3\\_A & X2cell\\_3\\_B & ME\\_4cell\\_1\\_A & ME\\_4cell\\_1\\_B & ME\\_4cell\\_1\\_C & ME\\_4cell\\_1\\_D & ⋯ & EM\\_4cell\\_5\\_C & EM\\_4cell\\_5\\_D & EM\\_4cell\\_6\\_A & EM\\_4cell\\_6\\_B & EM\\_4cell\\_6\\_C & EM\\_4cell\\_6\\_D & ME\\_4cell\\_6\\_A & ME\\_4cell\\_6\\_B & ME\\_4cell\\_6\\_C & ME\\_4cell\\_6\\_D\\\\\n\\hline\n\tENSMUSG00000038128 &   0 &   0 &   3 &   0 &   0 &   0 &  0 &   0 &   0 &   0 & ⋯ &   0 &  0 &  0 &  0 &   0 &   0 &   0 &   0 &   0 &  0\\\\\n\tENSMUSG00000052767 &   0 &   0 &   0 &   0 &   0 &   0 &  0 &   0 &   0 &   0 & ⋯ &   0 &  0 &  0 &  0 &   0 &   0 &   0 &   0 &   0 &  0\\\\\n\tENSMUSG00000081014 &   0 &   0 &   0 &   0 &   0 &   0 &  0 &   0 &   0 &   0 & ⋯ &   0 &  0 &  0 &  0 &   0 &   0 &   0 &   0 &   0 &  0\\\\\n\tENSMUSG00000098390 &   0 &   0 &   0 &   0 &   0 &   0 &  0 &   0 &   0 &   0 & ⋯ &   0 &  0 &  0 &  0 &   0 &   0 &   0 &   0 &   0 &  0\\\\\n\tENSMUSG00000031422 & 208 & 103 & 116 & 164 & 571 & 285 & 70 & 136 & 142 & 131 & ⋯ & 116 & 89 & 67 & 57 & 157 & 383 & 336 & 255 & 142 & 74\\\\\n\tENSMUSG00000097968 &   0 &   0 &   0 &   0 &   0 &   0 &  0 &   0 &   0 &   0 & ⋯ &   0 &  0 &  0 &  0 &   0 &   0 &   0 &   0 &   0 &  0\\\\\n\\end{tabular}\n",
            "text/plain": [
              "                   X2cell_1_A X2cell_1_B X2cell_2_A X2cell_2_B X2cell_3_A\n",
              "ENSMUSG00000038128   0          0          3          0          0       \n",
              "ENSMUSG00000052767   0          0          0          0          0       \n",
              "ENSMUSG00000081014   0          0          0          0          0       \n",
              "ENSMUSG00000098390   0          0          0          0          0       \n",
              "ENSMUSG00000031422 208        103        116        164        571       \n",
              "ENSMUSG00000097968   0          0          0          0          0       \n",
              "                   X2cell_3_B ME_4cell_1_A ME_4cell_1_B ME_4cell_1_C\n",
              "ENSMUSG00000038128   0         0             0            0         \n",
              "ENSMUSG00000052767   0         0             0            0         \n",
              "ENSMUSG00000081014   0         0             0            0         \n",
              "ENSMUSG00000098390   0         0             0            0         \n",
              "ENSMUSG00000031422 285        70           136          142         \n",
              "ENSMUSG00000097968   0         0             0            0         \n",
              "                   ME_4cell_1_D ⋯ EM_4cell_5_C EM_4cell_5_D EM_4cell_6_A\n",
              "ENSMUSG00000038128   0          ⋯   0           0            0          \n",
              "ENSMUSG00000052767   0          ⋯   0           0            0          \n",
              "ENSMUSG00000081014   0          ⋯   0           0            0          \n",
              "ENSMUSG00000098390   0          ⋯   0           0            0          \n",
              "ENSMUSG00000031422 131          ⋯ 116          89           67          \n",
              "ENSMUSG00000097968   0          ⋯   0           0            0          \n",
              "                   EM_4cell_6_B EM_4cell_6_C EM_4cell_6_D ME_4cell_6_A\n",
              "ENSMUSG00000038128  0             0            0            0         \n",
              "ENSMUSG00000052767  0             0            0            0         \n",
              "ENSMUSG00000081014  0             0            0            0         \n",
              "ENSMUSG00000098390  0             0            0            0         \n",
              "ENSMUSG00000031422 57           157          383          336         \n",
              "ENSMUSG00000097968  0             0            0            0         \n",
              "                   ME_4cell_6_B ME_4cell_6_C ME_4cell_6_D\n",
              "ENSMUSG00000038128   0            0           0          \n",
              "ENSMUSG00000052767   0            0           0          \n",
              "ENSMUSG00000081014   0            0           0          \n",
              "ENSMUSG00000098390   0            0           0          \n",
              "ENSMUSG00000031422 255          142          74          \n",
              "ENSMUSG00000097968   0            0           0          "
            ]
          },
          "metadata": {}
        }
      ]
    },
    {
      "cell_type": "code",
      "source": [
        "label"
      ],
      "metadata": {
        "colab": {
          "base_uri": "https://localhost:8080/",
          "height": 138
        },
        "id": "HLuIewUcz_yX",
        "outputId": "fe3c3cba-c7bc-4c89-fbc0-c27f0152d121"
      },
      "execution_count": null,
      "outputs": [
        {
          "output_type": "display_data",
          "data": {
            "text/html": [
              "<style>\n",
              ".list-inline {list-style: none; margin:0; padding: 0}\n",
              ".list-inline>li {display: inline-block}\n",
              ".list-inline>li:not(:last-child)::after {content: \"\\00b7\"; padding: 0 .5ex}\n",
              "</style>\n",
              "<ol class=list-inline><li>2cell</li><li>2cell</li><li>2cell</li><li>2cell</li><li>2cell</li><li>2cell</li><li>4cell</li><li>4cell</li><li>4cell</li><li>4cell</li><li>4cell</li><li>4cell</li><li>4cell</li><li>4cell</li><li>4cell</li><li>4cell</li><li>4cell</li><li>4cell</li><li>4cell</li><li>4cell</li><li>4cell</li><li>4cell</li><li>4cell</li><li>4cell</li><li>4cell</li><li>4cell</li><li>4cell</li><li>4cell</li><li>4cell</li><li>4cell</li><li>4cell</li><li>4cell</li><li>4cell</li><li>4cell</li><li>4cell</li><li>4cell</li><li>4cell</li><li>4cell</li><li>4cell</li><li>4cell</li><li>4cell</li><li>4cell</li><li>4cell</li><li>4cell</li><li>4cell</li><li>4cell</li><li>8cell</li><li>8cell</li><li>8cell</li><li>8cell</li><li>8cell</li><li>8cell</li><li>8cell</li><li>8cell</li><li>8cell</li><li>8cell</li><li>8cell</li><li>8cell</li><li>8cell</li><li>8cell</li><li>8cell</li><li>8cell</li><li>16cell</li><li>16cell</li><li>16cell</li><li>16cell</li><li>16cell</li><li>16cell</li><li>blast</li><li>blast</li><li>blast</li><li>blast</li><li>blast</li><li>blast</li><li>8cell</li><li>8cell</li><li>8cell</li><li>8cell</li><li>8cell</li><li>8cell</li><li>8cell</li><li>8cell</li><li>8cell</li><li>8cell</li><li>8cell</li><li>8cell</li><li>8cell</li><li>8cell</li><li>8cell</li><li>8cell</li><li>2cell</li><li>2cell</li><li>2cell</li><li>2cell</li><li>2cell</li><li>2cell</li><li>2cell</li><li>2cell</li><li>2cell</li><li>2cell</li><li>4cell</li><li>4cell</li><li>4cell</li><li>4cell</li><li>4cell</li><li>4cell</li><li>4cell</li><li>4cell</li><li>4cell</li><li>4cell</li><li>4cell</li><li>4cell</li><li>4cell</li><li>4cell</li><li>4cell</li><li>4cell</li><li>4cell</li><li>4cell</li><li>4cell</li><li>4cell</li><li>4cell</li><li>4cell</li><li>4cell</li><li>4cell</li></ol>\n",
              "\n",
              "<details>\n",
              "\t<summary style=display:list-item;cursor:pointer>\n",
              "\t\t<strong>Levels</strong>:\n",
              "\t</summary>\n",
              "\t<style>\n",
              "\t.list-inline {list-style: none; margin:0; padding: 0}\n",
              "\t.list-inline>li {display: inline-block}\n",
              "\t.list-inline>li:not(:last-child)::after {content: \"\\00b7\"; padding: 0 .5ex}\n",
              "\t</style>\n",
              "\t<ol class=list-inline><li>'16cell'</li><li>'2cell'</li><li>'4cell'</li><li>'8cell'</li><li>'blast'</li></ol>\n",
              "</details>"
            ],
            "text/markdown": "1. 2cell\n2. 2cell\n3. 2cell\n4. 2cell\n5. 2cell\n6. 2cell\n7. 4cell\n8. 4cell\n9. 4cell\n10. 4cell\n11. 4cell\n12. 4cell\n13. 4cell\n14. 4cell\n15. 4cell\n16. 4cell\n17. 4cell\n18. 4cell\n19. 4cell\n20. 4cell\n21. 4cell\n22. 4cell\n23. 4cell\n24. 4cell\n25. 4cell\n26. 4cell\n27. 4cell\n28. 4cell\n29. 4cell\n30. 4cell\n31. 4cell\n32. 4cell\n33. 4cell\n34. 4cell\n35. 4cell\n36. 4cell\n37. 4cell\n38. 4cell\n39. 4cell\n40. 4cell\n41. 4cell\n42. 4cell\n43. 4cell\n44. 4cell\n45. 4cell\n46. 4cell\n47. 8cell\n48. 8cell\n49. 8cell\n50. 8cell\n51. 8cell\n52. 8cell\n53. 8cell\n54. 8cell\n55. 8cell\n56. 8cell\n57. 8cell\n58. 8cell\n59. 8cell\n60. 8cell\n61. 8cell\n62. 8cell\n63. 16cell\n64. 16cell\n65. 16cell\n66. 16cell\n67. 16cell\n68. 16cell\n69. blast\n70. blast\n71. blast\n72. blast\n73. blast\n74. blast\n75. 8cell\n76. 8cell\n77. 8cell\n78. 8cell\n79. 8cell\n80. 8cell\n81. 8cell\n82. 8cell\n83. 8cell\n84. 8cell\n85. 8cell\n86. 8cell\n87. 8cell\n88. 8cell\n89. 8cell\n90. 8cell\n91. 2cell\n92. 2cell\n93. 2cell\n94. 2cell\n95. 2cell\n96. 2cell\n97. 2cell\n98. 2cell\n99. 2cell\n100. 2cell\n101. 4cell\n102. 4cell\n103. 4cell\n104. 4cell\n105. 4cell\n106. 4cell\n107. 4cell\n108. 4cell\n109. 4cell\n110. 4cell\n111. 4cell\n112. 4cell\n113. 4cell\n114. 4cell\n115. 4cell\n116. 4cell\n117. 4cell\n118. 4cell\n119. 4cell\n120. 4cell\n121. 4cell\n122. 4cell\n123. 4cell\n124. 4cell\n\n\n\n**Levels**: 1. '16cell'\n2. '2cell'\n3. '4cell'\n4. '8cell'\n5. 'blast'\n\n\n",
            "text/latex": "\\begin{enumerate*}\n\\item 2cell\n\\item 2cell\n\\item 2cell\n\\item 2cell\n\\item 2cell\n\\item 2cell\n\\item 4cell\n\\item 4cell\n\\item 4cell\n\\item 4cell\n\\item 4cell\n\\item 4cell\n\\item 4cell\n\\item 4cell\n\\item 4cell\n\\item 4cell\n\\item 4cell\n\\item 4cell\n\\item 4cell\n\\item 4cell\n\\item 4cell\n\\item 4cell\n\\item 4cell\n\\item 4cell\n\\item 4cell\n\\item 4cell\n\\item 4cell\n\\item 4cell\n\\item 4cell\n\\item 4cell\n\\item 4cell\n\\item 4cell\n\\item 4cell\n\\item 4cell\n\\item 4cell\n\\item 4cell\n\\item 4cell\n\\item 4cell\n\\item 4cell\n\\item 4cell\n\\item 4cell\n\\item 4cell\n\\item 4cell\n\\item 4cell\n\\item 4cell\n\\item 4cell\n\\item 8cell\n\\item 8cell\n\\item 8cell\n\\item 8cell\n\\item 8cell\n\\item 8cell\n\\item 8cell\n\\item 8cell\n\\item 8cell\n\\item 8cell\n\\item 8cell\n\\item 8cell\n\\item 8cell\n\\item 8cell\n\\item 8cell\n\\item 8cell\n\\item 16cell\n\\item 16cell\n\\item 16cell\n\\item 16cell\n\\item 16cell\n\\item 16cell\n\\item blast\n\\item blast\n\\item blast\n\\item blast\n\\item blast\n\\item blast\n\\item 8cell\n\\item 8cell\n\\item 8cell\n\\item 8cell\n\\item 8cell\n\\item 8cell\n\\item 8cell\n\\item 8cell\n\\item 8cell\n\\item 8cell\n\\item 8cell\n\\item 8cell\n\\item 8cell\n\\item 8cell\n\\item 8cell\n\\item 8cell\n\\item 2cell\n\\item 2cell\n\\item 2cell\n\\item 2cell\n\\item 2cell\n\\item 2cell\n\\item 2cell\n\\item 2cell\n\\item 2cell\n\\item 2cell\n\\item 4cell\n\\item 4cell\n\\item 4cell\n\\item 4cell\n\\item 4cell\n\\item 4cell\n\\item 4cell\n\\item 4cell\n\\item 4cell\n\\item 4cell\n\\item 4cell\n\\item 4cell\n\\item 4cell\n\\item 4cell\n\\item 4cell\n\\item 4cell\n\\item 4cell\n\\item 4cell\n\\item 4cell\n\\item 4cell\n\\item 4cell\n\\item 4cell\n\\item 4cell\n\\item 4cell\n\\end{enumerate*}\n\n\\emph{Levels}: \\begin{enumerate*}\n\\item '16cell'\n\\item '2cell'\n\\item '4cell'\n\\item '8cell'\n\\item 'blast'\n\\end{enumerate*}\n",
            "text/plain": [
              "  [1] 2cell  2cell  2cell  2cell  2cell  2cell  4cell  4cell  4cell  4cell \n",
              " [11] 4cell  4cell  4cell  4cell  4cell  4cell  4cell  4cell  4cell  4cell \n",
              " [21] 4cell  4cell  4cell  4cell  4cell  4cell  4cell  4cell  4cell  4cell \n",
              " [31] 4cell  4cell  4cell  4cell  4cell  4cell  4cell  4cell  4cell  4cell \n",
              " [41] 4cell  4cell  4cell  4cell  4cell  4cell  8cell  8cell  8cell  8cell \n",
              " [51] 8cell  8cell  8cell  8cell  8cell  8cell  8cell  8cell  8cell  8cell \n",
              " [61] 8cell  8cell  16cell 16cell 16cell 16cell 16cell 16cell blast  blast \n",
              " [71] blast  blast  blast  blast  8cell  8cell  8cell  8cell  8cell  8cell \n",
              " [81] 8cell  8cell  8cell  8cell  8cell  8cell  8cell  8cell  8cell  8cell \n",
              " [91] 2cell  2cell  2cell  2cell  2cell  2cell  2cell  2cell  2cell  2cell \n",
              "[101] 4cell  4cell  4cell  4cell  4cell  4cell  4cell  4cell  4cell  4cell \n",
              "[111] 4cell  4cell  4cell  4cell  4cell  4cell  4cell  4cell  4cell  4cell \n",
              "[121] 4cell  4cell  4cell  4cell \n",
              "Levels: 16cell 2cell 4cell 8cell blast"
            ]
          },
          "metadata": {}
        }
      ]
    },
    {
      "cell_type": "code",
      "source": [
        "imputed <- scISR(data = raw)"
      ],
      "metadata": {
        "id": "JPQT2Et2D-j3",
        "colab": {
          "base_uri": "https://localhost:8080/"
        },
        "outputId": "cb397a68-6370-4b11-890d-f39e2a36a00f"
      },
      "execution_count": null,
      "outputs": [
        {
          "output_type": "stream",
          "name": "stderr",
          "text": [
            "\n",
            "Using knn...\n",
            "\n",
            "Clustering method: kmeans\n",
            "\n",
            "Perturbation method: noise\n",
            "\n",
            "Building original connectivity matrices\n",
            "\n"
          ]
        },
        {
          "output_type": "stream",
          "name": "stdout",
          "text": [
            "  |======================================================================| 100%"
          ]
        },
        {
          "output_type": "stream",
          "name": "stderr",
          "text": [
            "Building perturbed connectivity matrices\n",
            "\n"
          ]
        },
        {
          "output_type": "stream",
          "name": "stdout",
          "text": [
            "  |======================================================================| 100%\n"
          ]
        },
        {
          "output_type": "stream",
          "name": "stderr",
          "text": [
            "Done in 2.96531341473262 mins.\n",
            "\n",
            "\n"
          ]
        }
      ]
    },
    {
      "cell_type": "code",
      "source": [
        "imputed"
      ],
      "metadata": {
        "colab": {
          "base_uri": "https://localhost:8080/",
          "height": 1000
        },
        "id": "kQaZr_cNKr42",
        "outputId": "1a622d3f-19ea-4820-82c0-3a560aca9b69"
      },
      "execution_count": null,
      "outputs": [
        {
          "output_type": "display_data",
          "data": {
            "text/html": [
              "<table class=\"dataframe\">\n",
              "<caption>A matrix: 4720 × 124 of type dbl</caption>\n",
              "<thead>\n",
              "\t<tr><th></th><th scope=col>X2cell_1_A</th><th scope=col>X2cell_1_B</th><th scope=col>X2cell_2_A</th><th scope=col>X2cell_2_B</th><th scope=col>X2cell_3_A</th><th scope=col>X2cell_3_B</th><th scope=col>ME_4cell_1_A</th><th scope=col>ME_4cell_1_B</th><th scope=col>ME_4cell_1_C</th><th scope=col>ME_4cell_1_D</th><th scope=col>⋯</th><th scope=col>EM_4cell_5_C</th><th scope=col>EM_4cell_5_D</th><th scope=col>EM_4cell_6_A</th><th scope=col>EM_4cell_6_B</th><th scope=col>EM_4cell_6_C</th><th scope=col>EM_4cell_6_D</th><th scope=col>ME_4cell_6_A</th><th scope=col>ME_4cell_6_B</th><th scope=col>ME_4cell_6_C</th><th scope=col>ME_4cell_6_D</th></tr>\n",
              "</thead>\n",
              "<tbody>\n",
              "\t<tr><th scope=row>ENSMUSG00000038128</th><td>0.000000</td><td>0.000000</td><td>2.000000</td><td>0.000000</td><td> 0.000000</td><td>0.000000</td><td>0.000000</td><td>0.000000</td><td>0.000000</td><td>0.000000</td><td>⋯</td><td>0.000000</td><td>0.000000</td><td>0.000000</td><td>0.000000</td><td>0.000000</td><td> 0.000000</td><td>0.000000</td><td> 0.000000</td><td>0.000000</td><td>0.000000</td></tr>\n",
              "\t<tr><th scope=row>ENSMUSG00000031422</th><td>7.707359</td><td>6.700440</td><td>6.870365</td><td>7.366322</td><td> 9.159871</td><td>8.159871</td><td>6.149747</td><td>7.098032</td><td>7.159871</td><td>7.044394</td><td>⋯</td><td>6.870365</td><td>6.491853</td><td>6.087463</td><td>5.857981</td><td>7.303781</td><td> 8.584963</td><td>8.396605</td><td> 8.000000</td><td>7.159871</td><td>6.228819</td></tr>\n",
              "\t<tr><th scope=row>ENSMUSG00000083588</th><td>0.000000</td><td>1.000000</td><td>0.000000</td><td>0.000000</td><td> 0.000000</td><td>0.000000</td><td>0.000000</td><td>0.000000</td><td>0.000000</td><td>0.000000</td><td>⋯</td><td>1.584963</td><td>1.584963</td><td>0.000000</td><td>0.000000</td><td>0.000000</td><td> 0.000000</td><td>1.000000</td><td> 0.000000</td><td>0.000000</td><td>0.000000</td></tr>\n",
              "\t<tr><th scope=row>ENSMUSG00000020495</th><td>7.108524</td><td>6.044394</td><td>5.977280</td><td>5.643856</td><td> 6.044394</td><td>5.459432</td><td>5.882643</td><td>3.700440</td><td>4.459432</td><td>4.643856</td><td>⋯</td><td>4.954196</td><td>5.614710</td><td>4.584963</td><td>4.169925</td><td>5.321928</td><td> 4.321928</td><td>4.643856</td><td> 4.321928</td><td>4.754888</td><td>5.491853</td></tr>\n",
              "\t<tr><th scope=row>ENSMUSG00000029438</th><td>5.426265</td><td>3.459432</td><td>5.209453</td><td>4.643856</td><td> 5.832890</td><td>5.129283</td><td>5.459432</td><td>5.930737</td><td>6.266787</td><td>5.727920</td><td>⋯</td><td>5.459432</td><td>5.491853</td><td>5.727920</td><td>5.491853</td><td>5.781360</td><td> 5.906891</td><td>5.614710</td><td> 6.672425</td><td>6.375039</td><td>4.906891</td></tr>\n",
              "\t<tr><th scope=row>ENSMUSG00000091195</th><td>0.000000</td><td>0.000000</td><td>0.000000</td><td>0.000000</td><td> 1.000000</td><td>0.000000</td><td>0.000000</td><td>0.000000</td><td>0.000000</td><td>0.000000</td><td>⋯</td><td>0.000000</td><td>0.000000</td><td>0.000000</td><td>0.000000</td><td>0.000000</td><td> 0.000000</td><td>0.000000</td><td> 0.000000</td><td>0.000000</td><td>0.000000</td></tr>\n",
              "\t<tr><th scope=row>ENSMUSG00000073559</th><td>4.000000</td><td>2.584963</td><td>3.321928</td><td>2.807355</td><td> 4.700440</td><td>2.807355</td><td>2.584963</td><td>4.169925</td><td>3.459432</td><td>3.700440</td><td>⋯</td><td>2.584963</td><td>3.459432</td><td>2.000000</td><td>1.000000</td><td>2.584963</td><td> 3.000000</td><td>3.807355</td><td> 3.321928</td><td>3.169925</td><td>3.584963</td></tr>\n",
              "\t<tr><th scope=row>ENSMUSG00000054252</th><td>1.949430</td><td>0.000000</td><td>1.219907</td><td>2.230981</td><td> 2.584963</td><td>2.467533</td><td>0.000000</td><td>1.000000</td><td>0.000000</td><td>2.584963</td><td>⋯</td><td>0.000000</td><td>0.000000</td><td>0.000000</td><td>2.321928</td><td>2.321928</td><td> 3.700440</td><td>0.000000</td><td> 3.169925</td><td>2.321928</td><td>2.807355</td></tr>\n",
              "\t<tr><th scope=row>ENSMUSG00000099498</th><td>1.000000</td><td>2.000000</td><td>0.000000</td><td>0.000000</td><td> 1.584963</td><td>0.000000</td><td>0.000000</td><td>0.000000</td><td>0.000000</td><td>0.000000</td><td>⋯</td><td>0.000000</td><td>0.000000</td><td>0.000000</td><td>1.000000</td><td>0.000000</td><td> 1.000000</td><td>0.000000</td><td> 0.000000</td><td>1.000000</td><td>0.000000</td></tr>\n",
              "\t<tr><th scope=row>ENSMUSG00000032103</th><td>0.000000</td><td>0.000000</td><td>0.000000</td><td>0.000000</td><td> 0.000000</td><td>0.000000</td><td>1.000000</td><td>0.000000</td><td>0.000000</td><td>0.000000</td><td>⋯</td><td>0.000000</td><td>0.000000</td><td>1.000000</td><td>0.000000</td><td>0.000000</td><td> 0.000000</td><td>0.000000</td><td> 0.000000</td><td>0.000000</td><td>0.000000</td></tr>\n",
              "\t<tr><th scope=row>ENSMUSG00000055385</th><td>3.321928</td><td>1.584963</td><td>3.000000</td><td>0.000000</td><td> 2.000000</td><td>0.000000</td><td>2.807355</td><td>1.000000</td><td>1.000000</td><td>0.000000</td><td>⋯</td><td>0.000000</td><td>3.321928</td><td>0.000000</td><td>1.584963</td><td>0.000000</td><td> 0.000000</td><td>1.584963</td><td> 2.321928</td><td>1.000000</td><td>0.000000</td></tr>\n",
              "\t<tr><th scope=row>ENSMUSG00000003269</th><td>7.577429</td><td>6.228819</td><td>6.629357</td><td>6.066089</td><td> 8.280771</td><td>7.366322</td><td>7.523562</td><td>7.098032</td><td>7.451211</td><td>7.348728</td><td>⋯</td><td>7.499846</td><td>8.214319</td><td>6.643856</td><td>6.700440</td><td>7.266787</td><td> 7.569856</td><td>6.930737</td><td> 7.912889</td><td>8.129283</td><td>7.894818</td></tr>\n",
              "\t<tr><th scope=row>ENSMUSG00000096701</th><td>0.000000</td><td>0.000000</td><td>0.000000</td><td>1.000000</td><td> 0.000000</td><td>1.584963</td><td>0.000000</td><td>0.000000</td><td>0.000000</td><td>1.584963</td><td>⋯</td><td>0.000000</td><td>0.000000</td><td>0.000000</td><td>0.000000</td><td>0.000000</td><td> 0.000000</td><td>0.000000</td><td> 0.000000</td><td>0.000000</td><td>0.000000</td></tr>\n",
              "\t<tr><th scope=row>ENSMUSG00000070637</th><td>1.000000</td><td>0.000000</td><td>1.000000</td><td>0.000000</td><td> 0.000000</td><td>1.000000</td><td>0.000000</td><td>0.000000</td><td>0.000000</td><td>0.000000</td><td>⋯</td><td>0.000000</td><td>0.000000</td><td>0.000000</td><td>0.000000</td><td>0.000000</td><td> 0.000000</td><td>0.000000</td><td> 0.000000</td><td>0.000000</td><td>0.000000</td></tr>\n",
              "\t<tr><th scope=row>ENSMUSG00000072893</th><td>3.321928</td><td>3.321928</td><td>2.584963</td><td>1.000000</td><td> 3.306519</td><td>3.169925</td><td>1.715547</td><td>2.000000</td><td>1.584963</td><td>2.000000</td><td>⋯</td><td>1.658680</td><td>1.928354</td><td>1.584963</td><td>0.000000</td><td>1.068300</td><td> 1.000000</td><td>1.000000</td><td> 2.321928</td><td>1.716303</td><td>1.876331</td></tr>\n",
              "\t<tr><th scope=row>ENSMUSG00000030200</th><td>8.622052</td><td>7.584963</td><td>7.417853</td><td>7.149747</td><td> 8.184875</td><td>8.000000</td><td>8.366322</td><td>8.139551</td><td>7.491853</td><td>7.912889</td><td>⋯</td><td>8.092757</td><td>6.965784</td><td>6.727920</td><td>6.584963</td><td>6.149747</td><td> 5.554589</td><td>7.622052</td><td> 7.754888</td><td>7.400879</td><td>7.459432</td></tr>\n",
              "\t<tr><th scope=row>ENSMUSG00000024386</th><td>0.000000</td><td>2.584963</td><td>0.000000</td><td>0.000000</td><td> 3.000000</td><td>0.000000</td><td>0.000000</td><td>1.000000</td><td>1.584963</td><td>0.000000</td><td>⋯</td><td>0.000000</td><td>0.000000</td><td>0.000000</td><td>0.000000</td><td>1.000000</td><td> 0.000000</td><td>0.000000</td><td> 0.000000</td><td>1.000000</td><td>0.000000</td></tr>\n",
              "\t<tr><th scope=row>ENSMUSG00000059981</th><td>4.807355</td><td>3.459432</td><td>1.584963</td><td>4.321928</td><td> 4.700440</td><td>3.459432</td><td>4.247928</td><td>4.321928</td><td>4.523562</td><td>3.700440</td><td>⋯</td><td>3.584963</td><td>5.930737</td><td>4.000000</td><td>2.321928</td><td>3.169925</td><td> 2.807355</td><td>4.523562</td><td> 4.807355</td><td>5.087463</td><td>4.000000</td></tr>\n",
              "\t<tr><th scope=row>ENSMUSG00000084383</th><td>2.000000</td><td>0.000000</td><td>3.000000</td><td>0.000000</td><td> 2.584963</td><td>1.584963</td><td>2.321928</td><td>1.000000</td><td>3.000000</td><td>2.584963</td><td>⋯</td><td>3.321928</td><td>3.459432</td><td>2.321928</td><td>0.000000</td><td>1.584963</td><td> 2.807355</td><td>2.584963</td><td> 1.000000</td><td>2.000000</td><td>1.000000</td></tr>\n",
              "\t<tr><th scope=row>ENSMUSG00000069910</th><td>9.044394</td><td>8.144658</td><td>9.076816</td><td>8.618386</td><td> 9.663558</td><td>8.945444</td><td>7.339850</td><td>7.375039</td><td>6.870365</td><td>6.392317</td><td>⋯</td><td>6.686501</td><td>7.459432</td><td>5.727920</td><td>6.392317</td><td>6.832890</td><td> 7.383704</td><td>6.942515</td><td> 7.294621</td><td>6.894818</td><td>6.108524</td></tr>\n",
              "\t<tr><th scope=row>ENSMUSG00000035692</th><td>0.000000</td><td>1.000000</td><td>1.000000</td><td>1.000000</td><td> 2.584963</td><td>2.584963</td><td>1.000000</td><td>0.000000</td><td>0.000000</td><td>0.000000</td><td>⋯</td><td>0.000000</td><td>0.000000</td><td>0.000000</td><td>0.000000</td><td>1.584963</td><td> 0.000000</td><td>0.000000</td><td> 0.000000</td><td>1.000000</td><td>0.000000</td></tr>\n",
              "\t<tr><th scope=row>ENSMUSG00000021111</th><td>9.172428</td><td>8.531381</td><td>8.933691</td><td>8.758223</td><td>10.092757</td><td>9.339850</td><td>8.771489</td><td>8.965784</td><td>8.629357</td><td>9.111136</td><td>⋯</td><td>8.748193</td><td>8.233620</td><td>7.562242</td><td>8.434628</td><td>9.047124</td><td>10.060696</td><td>9.696968</td><td>10.782179</td><td>9.209453</td><td>8.994353</td></tr>\n",
              "\t<tr><th scope=row>ENSMUSG00000023279</th><td>7.098032</td><td>6.357552</td><td>6.906891</td><td>7.531381</td><td> 7.942515</td><td>7.686501</td><td>3.321928</td><td>2.584963</td><td>3.807355</td><td>4.247928</td><td>⋯</td><td>3.459432</td><td>3.807355</td><td>3.169925</td><td>3.700440</td><td>4.459432</td><td> 5.727920</td><td>1.000000</td><td> 1.584963</td><td>3.169925</td><td>3.807355</td></tr>\n",
              "\t<tr><th scope=row>ENSMUSG00000044172</th><td>2.584963</td><td>0.000000</td><td>0.000000</td><td>0.000000</td><td> 0.000000</td><td>1.000000</td><td>0.000000</td><td>0.000000</td><td>0.000000</td><td>0.000000</td><td>⋯</td><td>0.000000</td><td>0.000000</td><td>0.000000</td><td>0.000000</td><td>0.000000</td><td> 0.000000</td><td>0.000000</td><td> 2.584963</td><td>2.321928</td><td>0.000000</td></tr>\n",
              "\t<tr><th scope=row>ENSMUSG00000041040</th><td>6.426265</td><td>5.643856</td><td>6.392317</td><td>6.303781</td><td> 7.055282</td><td>5.754888</td><td>2.584963</td><td>4.754888</td><td>3.807355</td><td>3.459432</td><td>⋯</td><td>4.954196</td><td>5.357552</td><td>3.906891</td><td>3.906891</td><td>5.044394</td><td> 5.930737</td><td>6.303781</td><td> 3.584963</td><td>5.087463</td><td>4.584963</td></tr>\n",
              "\t<tr><th scope=row>ENSMUSG00000046500</th><td>0.000000</td><td>2.000000</td><td>2.000000</td><td>1.000000</td><td> 4.954196</td><td>2.807355</td><td>0.000000</td><td>0.000000</td><td>0.000000</td><td>0.000000</td><td>⋯</td><td>0.000000</td><td>0.000000</td><td>0.000000</td><td>0.000000</td><td>0.000000</td><td> 0.000000</td><td>0.000000</td><td> 0.000000</td><td>0.000000</td><td>0.000000</td></tr>\n",
              "\t<tr><th scope=row>ENSMUSG00000084569</th><td>0.000000</td><td>0.000000</td><td>1.000000</td><td>1.584963</td><td> 0.000000</td><td>0.000000</td><td>0.000000</td><td>1.000000</td><td>0.000000</td><td>0.000000</td><td>⋯</td><td>0.000000</td><td>0.000000</td><td>0.000000</td><td>0.000000</td><td>0.000000</td><td> 0.000000</td><td>0.000000</td><td> 1.000000</td><td>0.000000</td><td>0.000000</td></tr>\n",
              "\t<tr><th scope=row>ENSMUSG00000037300</th><td>2.321928</td><td>2.584963</td><td>2.000000</td><td>2.807355</td><td> 5.643856</td><td>3.906891</td><td>3.584963</td><td>2.584963</td><td>3.000000</td><td>2.807355</td><td>⋯</td><td>4.643856</td><td>4.857981</td><td>3.000000</td><td>1.000000</td><td>3.000000</td><td> 4.000000</td><td>5.000000</td><td> 3.000000</td><td>3.000000</td><td>4.523562</td></tr>\n",
              "\t<tr><th scope=row>ENSMUSG00000022105</th><td>6.475733</td><td>6.700440</td><td>6.857981</td><td>6.629357</td><td> 7.426265</td><td>6.539159</td><td>4.523562</td><td>2.584963</td><td>4.169925</td><td>3.584963</td><td>⋯</td><td>4.321928</td><td>3.321928</td><td>2.584963</td><td>3.321928</td><td>5.491853</td><td> 6.066089</td><td>6.000000</td><td> 5.857981</td><td>3.906891</td><td>5.672425</td></tr>\n",
              "\t<tr><th scope=row>ENSMUSG00000096917</th><td>5.392317</td><td>5.000000</td><td>5.781360</td><td>5.754888</td><td> 6.189825</td><td>5.781360</td><td>2.807355</td><td>3.169925</td><td>1.000000</td><td>1.000000</td><td>⋯</td><td>3.906891</td><td>1.000000</td><td>1.000000</td><td>2.321928</td><td>3.169925</td><td> 3.321928</td><td>3.000000</td><td> 4.087463</td><td>3.459432</td><td>3.000000</td></tr>\n",
              "\t<tr><th scope=row>⋮</th><td>⋮</td><td>⋮</td><td>⋮</td><td>⋮</td><td>⋮</td><td>⋮</td><td>⋮</td><td>⋮</td><td>⋮</td><td>⋮</td><td>⋱</td><td>⋮</td><td>⋮</td><td>⋮</td><td>⋮</td><td>⋮</td><td>⋮</td><td>⋮</td><td>⋮</td><td>⋮</td><td>⋮</td></tr>\n",
              "\t<tr><th scope=row>ENSMUSG00000095500</th><td> 1.000000</td><td>2.000000</td><td>0.000000</td><td>1.000000</td><td> 2.000000</td><td>0.000000</td><td> 1.584963</td><td>1.000000</td><td>0.000000</td><td>0.000000</td><td>⋯</td><td>0.000000</td><td>1.000000</td><td>0.000000</td><td>0.000000</td><td>1.000000</td><td>0.000000</td><td>1.584963</td><td>0.000000</td><td>1.584963</td><td>2.000000</td></tr>\n",
              "\t<tr><th scope=row>ENSMUSG00000029817</th><td> 8.379378</td><td>7.303781</td><td>8.189825</td><td>7.483816</td><td> 8.758223</td><td>7.499846</td><td> 6.714246</td><td>6.321928</td><td>6.539159</td><td>6.643856</td><td>⋯</td><td>7.044394</td><td>6.266787</td><td>6.209453</td><td>5.977280</td><td>7.584963</td><td>8.290019</td><td>8.784635</td><td>8.247928</td><td>6.491853</td><td>6.442943</td></tr>\n",
              "\t<tr><th scope=row>ENSMUSG00000029213</th><td> 4.584963</td><td>2.584963</td><td>3.700440</td><td>0.000000</td><td> 0.000000</td><td>1.584963</td><td> 4.754888</td><td>2.584963</td><td>4.954196</td><td>4.754888</td><td>⋯</td><td>2.321928</td><td>3.807355</td><td>4.169925</td><td>4.169925</td><td>5.700440</td><td>5.727920</td><td>5.807355</td><td>5.459432</td><td>2.807355</td><td>1.584963</td></tr>\n",
              "\t<tr><th scope=row>ENSMUSG00000021640</th><td> 0.000000</td><td>0.000000</td><td>0.000000</td><td>1.000000</td><td> 0.000000</td><td>0.000000</td><td> 0.000000</td><td>0.000000</td><td>0.000000</td><td>0.000000</td><td>⋯</td><td>1.000000</td><td>0.000000</td><td>0.000000</td><td>0.000000</td><td>0.000000</td><td>0.000000</td><td>0.000000</td><td>0.000000</td><td>0.000000</td><td>0.000000</td></tr>\n",
              "\t<tr><th scope=row>ENSMUSG00000021639</th><td> 6.584963</td><td>5.129283</td><td>7.607330</td><td>6.321928</td><td> 6.781360</td><td>6.169925</td><td> 6.845490</td><td>7.247928</td><td>6.629357</td><td>6.794416</td><td>⋯</td><td>6.321928</td><td>6.965784</td><td>4.857981</td><td>5.554589</td><td>7.108524</td><td>7.228819</td><td>7.434628</td><td>7.055282</td><td>6.870365</td><td>6.741467</td></tr>\n",
              "\t<tr><th scope=row>ENSMUSG00000024854</th><td> 0.000000</td><td>0.000000</td><td>0.000000</td><td>0.000000</td><td> 2.584963</td><td>0.000000</td><td> 0.000000</td><td>0.000000</td><td>0.000000</td><td>2.807355</td><td>⋯</td><td>0.000000</td><td>0.000000</td><td>0.000000</td><td>0.000000</td><td>0.000000</td><td>2.584963</td><td>0.000000</td><td>2.000000</td><td>0.000000</td><td>0.000000</td></tr>\n",
              "\t<tr><th scope=row>ENSMUSG00000022426</th><td> 4.321928</td><td>2.807355</td><td>5.357552</td><td>5.832890</td><td> 6.882643</td><td>4.906891</td><td> 3.584963</td><td>1.584963</td><td>1.000000</td><td>2.321928</td><td>⋯</td><td>3.807355</td><td>3.459432</td><td>3.169925</td><td>0.000000</td><td>4.584963</td><td>1.584963</td><td>4.087463</td><td>4.523562</td><td>4.000000</td><td>2.321928</td></tr>\n",
              "\t<tr><th scope=row>ENSMUSG00000084816</th><td> 1.584963</td><td>0.000000</td><td>2.000000</td><td>2.000000</td><td> 2.807355</td><td>1.000000</td><td> 3.321928</td><td>2.000000</td><td>3.700440</td><td>1.000000</td><td>⋯</td><td>2.000000</td><td>0.000000</td><td>2.321928</td><td>1.584963</td><td>2.000000</td><td>3.321928</td><td>0.000000</td><td>1.000000</td><td>1.584963</td><td>0.000000</td></tr>\n",
              "\t<tr><th scope=row>ENSMUSG00000052852</th><td> 1.584963</td><td>2.584963</td><td>2.000000</td><td>4.000000</td><td> 3.584963</td><td>3.584963</td><td> 5.554589</td><td>6.727920</td><td>6.375039</td><td>5.357552</td><td>⋯</td><td>5.491853</td><td>7.022368</td><td>7.599913</td><td>6.754888</td><td>6.906891</td><td>7.189825</td><td>7.658211</td><td>8.584963</td><td>6.022368</td><td>6.614710</td></tr>\n",
              "\t<tr><th scope=row>ENSMUSG00000024410</th><td> 7.614710</td><td>7.569856</td><td>7.169925</td><td>6.491853</td><td> 8.149747</td><td>7.906891</td><td> 7.330917</td><td>6.022368</td><td>6.857981</td><td>6.108524</td><td>⋯</td><td>6.714246</td><td>6.754888</td><td>6.285402</td><td>7.044394</td><td>5.554589</td><td>6.189825</td><td>6.599913</td><td>7.375039</td><td>6.475733</td><td>7.912889</td></tr>\n",
              "\t<tr><th scope=row>ENSMUSG00000026304</th><td> 0.000000</td><td>0.000000</td><td>0.000000</td><td>0.000000</td><td> 2.321928</td><td>0.000000</td><td> 0.000000</td><td>0.000000</td><td>0.000000</td><td>2.584963</td><td>⋯</td><td>0.000000</td><td>0.000000</td><td>0.000000</td><td>0.000000</td><td>0.000000</td><td>0.000000</td><td>0.000000</td><td>0.000000</td><td>0.000000</td><td>0.000000</td></tr>\n",
              "\t<tr><th scope=row>ENSMUSG00000085770</th><td> 4.700440</td><td>3.584963</td><td>1.000000</td><td>2.584963</td><td> 3.000000</td><td>4.247928</td><td> 2.321928</td><td>0.000000</td><td>0.000000</td><td>0.000000</td><td>⋯</td><td>0.000000</td><td>0.000000</td><td>0.000000</td><td>0.000000</td><td>0.000000</td><td>0.000000</td><td>0.000000</td><td>0.000000</td><td>0.000000</td><td>3.000000</td></tr>\n",
              "\t<tr><th scope=row>ENSMUSG00000055320</th><td> 4.857981</td><td>3.700440</td><td>1.584963</td><td>4.643856</td><td> 4.584963</td><td>1.584963</td><td> 1.000000</td><td>3.321928</td><td>3.459432</td><td>4.954196</td><td>⋯</td><td>3.459432</td><td>0.000000</td><td>3.000000</td><td>2.321928</td><td>0.000000</td><td>5.044394</td><td>5.169925</td><td>1.000000</td><td>2.321928</td><td>3.169925</td></tr>\n",
              "\t<tr><th scope=row>ENSMUSG00000062933</th><td> 7.693487</td><td>6.918863</td><td>8.129283</td><td>7.330917</td><td> 9.074141</td><td>7.982994</td><td> 7.768184</td><td>8.169925</td><td>7.483816</td><td>8.459432</td><td>⋯</td><td>7.622052</td><td>7.894818</td><td>7.339850</td><td>7.169925</td><td>7.592457</td><td>7.348728</td><td>7.965784</td><td>8.511753</td><td>8.214319</td><td>8.189825</td></tr>\n",
              "\t<tr><th scope=row>ENSMUSG00000021820</th><td> 5.954196</td><td>5.357552</td><td>6.882643</td><td>6.285402</td><td> 6.507795</td><td>5.954196</td><td> 4.169925</td><td>3.000000</td><td>5.247928</td><td>4.392317</td><td>⋯</td><td>5.392317</td><td>5.357552</td><td>4.169925</td><td>3.807355</td><td>4.584963</td><td>4.584963</td><td>5.857981</td><td>4.700440</td><td>4.087463</td><td>5.129283</td></tr>\n",
              "\t<tr><th scope=row>ENSMUSG00000073802</th><td> 0.000000</td><td>2.321928</td><td>0.000000</td><td>0.000000</td><td> 1.584963</td><td>1.000000</td><td> 0.000000</td><td>0.000000</td><td>0.000000</td><td>0.000000</td><td>⋯</td><td>1.584963</td><td>2.321928</td><td>0.000000</td><td>0.000000</td><td>0.000000</td><td>0.000000</td><td>0.000000</td><td>2.000000</td><td>0.000000</td><td>0.000000</td></tr>\n",
              "\t<tr><th scope=row>ENSMUSG00000025967</th><td> 7.139551</td><td>6.614710</td><td>7.294621</td><td>6.832890</td><td> 6.930737</td><td>6.754888</td><td> 7.820179</td><td>7.851749</td><td>8.577429</td><td>8.139551</td><td>⋯</td><td>8.826548</td><td>8.867279</td><td>7.285402</td><td>7.303781</td><td>7.562242</td><td>8.562242</td><td>8.204571</td><td>8.353147</td><td>8.189825</td><td>8.596190</td></tr>\n",
              "\t<tr><th scope=row>ENSMUSG00000025950</th><td> 0.000000</td><td>3.906891</td><td>3.906891</td><td>2.584963</td><td> 0.000000</td><td>1.584963</td><td> 4.321928</td><td>5.491853</td><td>4.169925</td><td>5.906891</td><td>⋯</td><td>5.285402</td><td>5.247928</td><td>5.087463</td><td>5.807355</td><td>6.129283</td><td>5.727920</td><td>5.930737</td><td>4.643856</td><td>6.599913</td><td>4.906891</td></tr>\n",
              "\t<tr><th scope=row>ENSMUSG00000023150</th><td> 7.562242</td><td>6.022368</td><td>7.813781</td><td>7.826548</td><td> 6.149747</td><td>6.475733</td><td> 7.442943</td><td>7.665336</td><td>8.243174</td><td>7.607330</td><td>⋯</td><td>6.539159</td><td>6.930737</td><td>7.321928</td><td>7.569856</td><td>8.357552</td><td>9.475733</td><td>8.519636</td><td>8.845490</td><td>7.748193</td><td>7.442943</td></tr>\n",
              "\t<tr><th scope=row>ENSMUSG00000044176</th><td> 0.000000</td><td>0.000000</td><td>0.000000</td><td>0.000000</td><td> 2.000000</td><td>0.000000</td><td> 0.000000</td><td>1.000000</td><td>1.000000</td><td>1.584963</td><td>⋯</td><td>0.000000</td><td>0.000000</td><td>0.000000</td><td>0.000000</td><td>0.000000</td><td>1.000000</td><td>0.000000</td><td>1.000000</td><td>0.000000</td><td>1.584963</td></tr>\n",
              "\t<tr><th scope=row>ENSMUSG00000030802</th><td> 4.392317</td><td>4.954196</td><td>4.754888</td><td>3.700440</td><td> 6.087463</td><td>5.426265</td><td> 4.700440</td><td>5.087463</td><td>4.584963</td><td>5.209453</td><td>⋯</td><td>3.459432</td><td>5.087463</td><td>5.357552</td><td>4.584963</td><td>5.247928</td><td>2.321928</td><td>5.392317</td><td>4.247928</td><td>5.129283</td><td>5.727920</td></tr>\n",
              "\t<tr><th scope=row>ENSMUSG00000030413</th><td> 4.857981</td><td>4.321928</td><td>4.954196</td><td>5.523562</td><td> 7.303781</td><td>7.257388</td><td> 2.000000</td><td>3.321928</td><td>2.584963</td><td>3.584963</td><td>⋯</td><td>0.000000</td><td>2.321928</td><td>3.584963</td><td>3.000000</td><td>3.000000</td><td>3.321928</td><td>4.169925</td><td>3.169925</td><td>4.247928</td><td>5.044394</td></tr>\n",
              "\t<tr><th scope=row>ENSMUSG00000001707</th><td> 8.224002</td><td>7.303781</td><td>7.491853</td><td>6.339850</td><td> 7.918863</td><td>8.129283</td><td> 7.748193</td><td>7.714246</td><td>7.577429</td><td>8.179909</td><td>⋯</td><td>6.643856</td><td>7.409391</td><td>7.011227</td><td>6.643856</td><td>7.599913</td><td>8.169925</td><td>8.303781</td><td>8.724514</td><td>7.451211</td><td>6.686501</td></tr>\n",
              "\t<tr><th scope=row>ENSMUSG00000007872</th><td> 2.807355</td><td>3.459432</td><td>1.584963</td><td>0.000000</td><td> 1.584963</td><td>0.000000</td><td> 3.807355</td><td>0.000000</td><td>1.000000</td><td>2.807355</td><td>⋯</td><td>5.087463</td><td>7.219169</td><td>5.247928</td><td>5.643856</td><td>3.584963</td><td>4.906891</td><td>7.321928</td><td>7.087463</td><td>6.409391</td><td>5.044394</td></tr>\n",
              "\t<tr><th scope=row>ENSMUSG00000032463</th><td> 4.321928</td><td>2.807355</td><td>3.000000</td><td>4.000000</td><td> 5.614710</td><td>5.169925</td><td> 3.000000</td><td>3.906891</td><td>3.584963</td><td>3.906891</td><td>⋯</td><td>4.000000</td><td>4.754888</td><td>3.584963</td><td>4.954196</td><td>2.807355</td><td>4.523562</td><td>4.584963</td><td>5.930737</td><td>4.857981</td><td>4.169925</td></tr>\n",
              "\t<tr><th scope=row>ENSMUSG00000092515</th><td> 0.000000</td><td>1.000000</td><td>0.000000</td><td>0.000000</td><td> 2.000000</td><td>0.000000</td><td> 1.584963</td><td>0.000000</td><td>0.000000</td><td>0.000000</td><td>⋯</td><td>0.000000</td><td>0.000000</td><td>0.000000</td><td>0.000000</td><td>0.000000</td><td>0.000000</td><td>0.000000</td><td>0.000000</td><td>0.000000</td><td>0.000000</td></tr>\n",
              "\t<tr><th scope=row>ENSMUSG00000085493</th><td> 0.000000</td><td>0.000000</td><td>0.000000</td><td>0.000000</td><td> 0.000000</td><td>1.584963</td><td> 0.000000</td><td>0.000000</td><td>0.000000</td><td>0.000000</td><td>⋯</td><td>0.000000</td><td>0.000000</td><td>0.000000</td><td>0.000000</td><td>1.000000</td><td>0.000000</td><td>1.000000</td><td>0.000000</td><td>0.000000</td><td>0.000000</td></tr>\n",
              "\t<tr><th scope=row>ENSMUSG00000053964</th><td> 0.000000</td><td>0.000000</td><td>0.000000</td><td>0.000000</td><td> 0.000000</td><td>0.000000</td><td> 0.000000</td><td>0.000000</td><td>0.000000</td><td>0.000000</td><td>⋯</td><td>0.000000</td><td>0.000000</td><td>0.000000</td><td>0.000000</td><td>0.000000</td><td>0.000000</td><td>2.321928</td><td>0.000000</td><td>1.584963</td><td>0.000000</td></tr>\n",
              "\t<tr><th scope=row>ENSMUSG00000054622</th><td> 0.000000</td><td>0.000000</td><td>0.000000</td><td>0.000000</td><td> 0.000000</td><td>0.000000</td><td> 0.000000</td><td>0.000000</td><td>0.000000</td><td>0.000000</td><td>⋯</td><td>0.000000</td><td>0.000000</td><td>0.000000</td><td>0.000000</td><td>0.000000</td><td>0.000000</td><td>0.000000</td><td>0.000000</td><td>0.000000</td><td>1.000000</td></tr>\n",
              "\t<tr><th scope=row>ENSMUSG00000063696</th><td>10.088788</td><td>9.581201</td><td>9.385862</td><td>8.679480</td><td>10.456354</td><td>9.491853</td><td>10.044394</td><td>9.990104</td><td>9.197217</td><td>9.821774</td><td>⋯</td><td>7.507795</td><td>7.761551</td><td>8.832890</td><td>8.247928</td><td>9.074141</td><td>9.008429</td><td>9.228819</td><td>9.675957</td><td>9.266787</td><td>9.479780</td></tr>\n",
              "</tbody>\n",
              "</table>\n"
            ],
            "text/markdown": "\nA matrix: 4720 × 124 of type dbl\n\n| <!--/--> | X2cell_1_A | X2cell_1_B | X2cell_2_A | X2cell_2_B | X2cell_3_A | X2cell_3_B | ME_4cell_1_A | ME_4cell_1_B | ME_4cell_1_C | ME_4cell_1_D | ⋯ | EM_4cell_5_C | EM_4cell_5_D | EM_4cell_6_A | EM_4cell_6_B | EM_4cell_6_C | EM_4cell_6_D | ME_4cell_6_A | ME_4cell_6_B | ME_4cell_6_C | ME_4cell_6_D |\n|---|---|---|---|---|---|---|---|---|---|---|---|---|---|---|---|---|---|---|---|---|---|\n| ENSMUSG00000038128 | 0.000000 | 0.000000 | 2.000000 | 0.000000 |  0.000000 | 0.000000 | 0.000000 | 0.000000 | 0.000000 | 0.000000 | ⋯ | 0.000000 | 0.000000 | 0.000000 | 0.000000 | 0.000000 |  0.000000 | 0.000000 |  0.000000 | 0.000000 | 0.000000 |\n| ENSMUSG00000031422 | 7.707359 | 6.700440 | 6.870365 | 7.366322 |  9.159871 | 8.159871 | 6.149747 | 7.098032 | 7.159871 | 7.044394 | ⋯ | 6.870365 | 6.491853 | 6.087463 | 5.857981 | 7.303781 |  8.584963 | 8.396605 |  8.000000 | 7.159871 | 6.228819 |\n| ENSMUSG00000083588 | 0.000000 | 1.000000 | 0.000000 | 0.000000 |  0.000000 | 0.000000 | 0.000000 | 0.000000 | 0.000000 | 0.000000 | ⋯ | 1.584963 | 1.584963 | 0.000000 | 0.000000 | 0.000000 |  0.000000 | 1.000000 |  0.000000 | 0.000000 | 0.000000 |\n| ENSMUSG00000020495 | 7.108524 | 6.044394 | 5.977280 | 5.643856 |  6.044394 | 5.459432 | 5.882643 | 3.700440 | 4.459432 | 4.643856 | ⋯ | 4.954196 | 5.614710 | 4.584963 | 4.169925 | 5.321928 |  4.321928 | 4.643856 |  4.321928 | 4.754888 | 5.491853 |\n| ENSMUSG00000029438 | 5.426265 | 3.459432 | 5.209453 | 4.643856 |  5.832890 | 5.129283 | 5.459432 | 5.930737 | 6.266787 | 5.727920 | ⋯ | 5.459432 | 5.491853 | 5.727920 | 5.491853 | 5.781360 |  5.906891 | 5.614710 |  6.672425 | 6.375039 | 4.906891 |\n| ENSMUSG00000091195 | 0.000000 | 0.000000 | 0.000000 | 0.000000 |  1.000000 | 0.000000 | 0.000000 | 0.000000 | 0.000000 | 0.000000 | ⋯ | 0.000000 | 0.000000 | 0.000000 | 0.000000 | 0.000000 |  0.000000 | 0.000000 |  0.000000 | 0.000000 | 0.000000 |\n| ENSMUSG00000073559 | 4.000000 | 2.584963 | 3.321928 | 2.807355 |  4.700440 | 2.807355 | 2.584963 | 4.169925 | 3.459432 | 3.700440 | ⋯ | 2.584963 | 3.459432 | 2.000000 | 1.000000 | 2.584963 |  3.000000 | 3.807355 |  3.321928 | 3.169925 | 3.584963 |\n| ENSMUSG00000054252 | 1.949430 | 0.000000 | 1.219907 | 2.230981 |  2.584963 | 2.467533 | 0.000000 | 1.000000 | 0.000000 | 2.584963 | ⋯ | 0.000000 | 0.000000 | 0.000000 | 2.321928 | 2.321928 |  3.700440 | 0.000000 |  3.169925 | 2.321928 | 2.807355 |\n| ENSMUSG00000099498 | 1.000000 | 2.000000 | 0.000000 | 0.000000 |  1.584963 | 0.000000 | 0.000000 | 0.000000 | 0.000000 | 0.000000 | ⋯ | 0.000000 | 0.000000 | 0.000000 | 1.000000 | 0.000000 |  1.000000 | 0.000000 |  0.000000 | 1.000000 | 0.000000 |\n| ENSMUSG00000032103 | 0.000000 | 0.000000 | 0.000000 | 0.000000 |  0.000000 | 0.000000 | 1.000000 | 0.000000 | 0.000000 | 0.000000 | ⋯ | 0.000000 | 0.000000 | 1.000000 | 0.000000 | 0.000000 |  0.000000 | 0.000000 |  0.000000 | 0.000000 | 0.000000 |\n| ENSMUSG00000055385 | 3.321928 | 1.584963 | 3.000000 | 0.000000 |  2.000000 | 0.000000 | 2.807355 | 1.000000 | 1.000000 | 0.000000 | ⋯ | 0.000000 | 3.321928 | 0.000000 | 1.584963 | 0.000000 |  0.000000 | 1.584963 |  2.321928 | 1.000000 | 0.000000 |\n| ENSMUSG00000003269 | 7.577429 | 6.228819 | 6.629357 | 6.066089 |  8.280771 | 7.366322 | 7.523562 | 7.098032 | 7.451211 | 7.348728 | ⋯ | 7.499846 | 8.214319 | 6.643856 | 6.700440 | 7.266787 |  7.569856 | 6.930737 |  7.912889 | 8.129283 | 7.894818 |\n| ENSMUSG00000096701 | 0.000000 | 0.000000 | 0.000000 | 1.000000 |  0.000000 | 1.584963 | 0.000000 | 0.000000 | 0.000000 | 1.584963 | ⋯ | 0.000000 | 0.000000 | 0.000000 | 0.000000 | 0.000000 |  0.000000 | 0.000000 |  0.000000 | 0.000000 | 0.000000 |\n| ENSMUSG00000070637 | 1.000000 | 0.000000 | 1.000000 | 0.000000 |  0.000000 | 1.000000 | 0.000000 | 0.000000 | 0.000000 | 0.000000 | ⋯ | 0.000000 | 0.000000 | 0.000000 | 0.000000 | 0.000000 |  0.000000 | 0.000000 |  0.000000 | 0.000000 | 0.000000 |\n| ENSMUSG00000072893 | 3.321928 | 3.321928 | 2.584963 | 1.000000 |  3.306519 | 3.169925 | 1.715547 | 2.000000 | 1.584963 | 2.000000 | ⋯ | 1.658680 | 1.928354 | 1.584963 | 0.000000 | 1.068300 |  1.000000 | 1.000000 |  2.321928 | 1.716303 | 1.876331 |\n| ENSMUSG00000030200 | 8.622052 | 7.584963 | 7.417853 | 7.149747 |  8.184875 | 8.000000 | 8.366322 | 8.139551 | 7.491853 | 7.912889 | ⋯ | 8.092757 | 6.965784 | 6.727920 | 6.584963 | 6.149747 |  5.554589 | 7.622052 |  7.754888 | 7.400879 | 7.459432 |\n| ENSMUSG00000024386 | 0.000000 | 2.584963 | 0.000000 | 0.000000 |  3.000000 | 0.000000 | 0.000000 | 1.000000 | 1.584963 | 0.000000 | ⋯ | 0.000000 | 0.000000 | 0.000000 | 0.000000 | 1.000000 |  0.000000 | 0.000000 |  0.000000 | 1.000000 | 0.000000 |\n| ENSMUSG00000059981 | 4.807355 | 3.459432 | 1.584963 | 4.321928 |  4.700440 | 3.459432 | 4.247928 | 4.321928 | 4.523562 | 3.700440 | ⋯ | 3.584963 | 5.930737 | 4.000000 | 2.321928 | 3.169925 |  2.807355 | 4.523562 |  4.807355 | 5.087463 | 4.000000 |\n| ENSMUSG00000084383 | 2.000000 | 0.000000 | 3.000000 | 0.000000 |  2.584963 | 1.584963 | 2.321928 | 1.000000 | 3.000000 | 2.584963 | ⋯ | 3.321928 | 3.459432 | 2.321928 | 0.000000 | 1.584963 |  2.807355 | 2.584963 |  1.000000 | 2.000000 | 1.000000 |\n| ENSMUSG00000069910 | 9.044394 | 8.144658 | 9.076816 | 8.618386 |  9.663558 | 8.945444 | 7.339850 | 7.375039 | 6.870365 | 6.392317 | ⋯ | 6.686501 | 7.459432 | 5.727920 | 6.392317 | 6.832890 |  7.383704 | 6.942515 |  7.294621 | 6.894818 | 6.108524 |\n| ENSMUSG00000035692 | 0.000000 | 1.000000 | 1.000000 | 1.000000 |  2.584963 | 2.584963 | 1.000000 | 0.000000 | 0.000000 | 0.000000 | ⋯ | 0.000000 | 0.000000 | 0.000000 | 0.000000 | 1.584963 |  0.000000 | 0.000000 |  0.000000 | 1.000000 | 0.000000 |\n| ENSMUSG00000021111 | 9.172428 | 8.531381 | 8.933691 | 8.758223 | 10.092757 | 9.339850 | 8.771489 | 8.965784 | 8.629357 | 9.111136 | ⋯ | 8.748193 | 8.233620 | 7.562242 | 8.434628 | 9.047124 | 10.060696 | 9.696968 | 10.782179 | 9.209453 | 8.994353 |\n| ENSMUSG00000023279 | 7.098032 | 6.357552 | 6.906891 | 7.531381 |  7.942515 | 7.686501 | 3.321928 | 2.584963 | 3.807355 | 4.247928 | ⋯ | 3.459432 | 3.807355 | 3.169925 | 3.700440 | 4.459432 |  5.727920 | 1.000000 |  1.584963 | 3.169925 | 3.807355 |\n| ENSMUSG00000044172 | 2.584963 | 0.000000 | 0.000000 | 0.000000 |  0.000000 | 1.000000 | 0.000000 | 0.000000 | 0.000000 | 0.000000 | ⋯ | 0.000000 | 0.000000 | 0.000000 | 0.000000 | 0.000000 |  0.000000 | 0.000000 |  2.584963 | 2.321928 | 0.000000 |\n| ENSMUSG00000041040 | 6.426265 | 5.643856 | 6.392317 | 6.303781 |  7.055282 | 5.754888 | 2.584963 | 4.754888 | 3.807355 | 3.459432 | ⋯ | 4.954196 | 5.357552 | 3.906891 | 3.906891 | 5.044394 |  5.930737 | 6.303781 |  3.584963 | 5.087463 | 4.584963 |\n| ENSMUSG00000046500 | 0.000000 | 2.000000 | 2.000000 | 1.000000 |  4.954196 | 2.807355 | 0.000000 | 0.000000 | 0.000000 | 0.000000 | ⋯ | 0.000000 | 0.000000 | 0.000000 | 0.000000 | 0.000000 |  0.000000 | 0.000000 |  0.000000 | 0.000000 | 0.000000 |\n| ENSMUSG00000084569 | 0.000000 | 0.000000 | 1.000000 | 1.584963 |  0.000000 | 0.000000 | 0.000000 | 1.000000 | 0.000000 | 0.000000 | ⋯ | 0.000000 | 0.000000 | 0.000000 | 0.000000 | 0.000000 |  0.000000 | 0.000000 |  1.000000 | 0.000000 | 0.000000 |\n| ENSMUSG00000037300 | 2.321928 | 2.584963 | 2.000000 | 2.807355 |  5.643856 | 3.906891 | 3.584963 | 2.584963 | 3.000000 | 2.807355 | ⋯ | 4.643856 | 4.857981 | 3.000000 | 1.000000 | 3.000000 |  4.000000 | 5.000000 |  3.000000 | 3.000000 | 4.523562 |\n| ENSMUSG00000022105 | 6.475733 | 6.700440 | 6.857981 | 6.629357 |  7.426265 | 6.539159 | 4.523562 | 2.584963 | 4.169925 | 3.584963 | ⋯ | 4.321928 | 3.321928 | 2.584963 | 3.321928 | 5.491853 |  6.066089 | 6.000000 |  5.857981 | 3.906891 | 5.672425 |\n| ENSMUSG00000096917 | 5.392317 | 5.000000 | 5.781360 | 5.754888 |  6.189825 | 5.781360 | 2.807355 | 3.169925 | 1.000000 | 1.000000 | ⋯ | 3.906891 | 1.000000 | 1.000000 | 2.321928 | 3.169925 |  3.321928 | 3.000000 |  4.087463 | 3.459432 | 3.000000 |\n| ⋮ | ⋮ | ⋮ | ⋮ | ⋮ | ⋮ | ⋮ | ⋮ | ⋮ | ⋮ | ⋮ | ⋱ | ⋮ | ⋮ | ⋮ | ⋮ | ⋮ | ⋮ | ⋮ | ⋮ | ⋮ | ⋮ |\n| ENSMUSG00000095500 |  1.000000 | 2.000000 | 0.000000 | 1.000000 |  2.000000 | 0.000000 |  1.584963 | 1.000000 | 0.000000 | 0.000000 | ⋯ | 0.000000 | 1.000000 | 0.000000 | 0.000000 | 1.000000 | 0.000000 | 1.584963 | 0.000000 | 1.584963 | 2.000000 |\n| ENSMUSG00000029817 |  8.379378 | 7.303781 | 8.189825 | 7.483816 |  8.758223 | 7.499846 |  6.714246 | 6.321928 | 6.539159 | 6.643856 | ⋯ | 7.044394 | 6.266787 | 6.209453 | 5.977280 | 7.584963 | 8.290019 | 8.784635 | 8.247928 | 6.491853 | 6.442943 |\n| ENSMUSG00000029213 |  4.584963 | 2.584963 | 3.700440 | 0.000000 |  0.000000 | 1.584963 |  4.754888 | 2.584963 | 4.954196 | 4.754888 | ⋯ | 2.321928 | 3.807355 | 4.169925 | 4.169925 | 5.700440 | 5.727920 | 5.807355 | 5.459432 | 2.807355 | 1.584963 |\n| ENSMUSG00000021640 |  0.000000 | 0.000000 | 0.000000 | 1.000000 |  0.000000 | 0.000000 |  0.000000 | 0.000000 | 0.000000 | 0.000000 | ⋯ | 1.000000 | 0.000000 | 0.000000 | 0.000000 | 0.000000 | 0.000000 | 0.000000 | 0.000000 | 0.000000 | 0.000000 |\n| ENSMUSG00000021639 |  6.584963 | 5.129283 | 7.607330 | 6.321928 |  6.781360 | 6.169925 |  6.845490 | 7.247928 | 6.629357 | 6.794416 | ⋯ | 6.321928 | 6.965784 | 4.857981 | 5.554589 | 7.108524 | 7.228819 | 7.434628 | 7.055282 | 6.870365 | 6.741467 |\n| ENSMUSG00000024854 |  0.000000 | 0.000000 | 0.000000 | 0.000000 |  2.584963 | 0.000000 |  0.000000 | 0.000000 | 0.000000 | 2.807355 | ⋯ | 0.000000 | 0.000000 | 0.000000 | 0.000000 | 0.000000 | 2.584963 | 0.000000 | 2.000000 | 0.000000 | 0.000000 |\n| ENSMUSG00000022426 |  4.321928 | 2.807355 | 5.357552 | 5.832890 |  6.882643 | 4.906891 |  3.584963 | 1.584963 | 1.000000 | 2.321928 | ⋯ | 3.807355 | 3.459432 | 3.169925 | 0.000000 | 4.584963 | 1.584963 | 4.087463 | 4.523562 | 4.000000 | 2.321928 |\n| ENSMUSG00000084816 |  1.584963 | 0.000000 | 2.000000 | 2.000000 |  2.807355 | 1.000000 |  3.321928 | 2.000000 | 3.700440 | 1.000000 | ⋯ | 2.000000 | 0.000000 | 2.321928 | 1.584963 | 2.000000 | 3.321928 | 0.000000 | 1.000000 | 1.584963 | 0.000000 |\n| ENSMUSG00000052852 |  1.584963 | 2.584963 | 2.000000 | 4.000000 |  3.584963 | 3.584963 |  5.554589 | 6.727920 | 6.375039 | 5.357552 | ⋯ | 5.491853 | 7.022368 | 7.599913 | 6.754888 | 6.906891 | 7.189825 | 7.658211 | 8.584963 | 6.022368 | 6.614710 |\n| ENSMUSG00000024410 |  7.614710 | 7.569856 | 7.169925 | 6.491853 |  8.149747 | 7.906891 |  7.330917 | 6.022368 | 6.857981 | 6.108524 | ⋯ | 6.714246 | 6.754888 | 6.285402 | 7.044394 | 5.554589 | 6.189825 | 6.599913 | 7.375039 | 6.475733 | 7.912889 |\n| ENSMUSG00000026304 |  0.000000 | 0.000000 | 0.000000 | 0.000000 |  2.321928 | 0.000000 |  0.000000 | 0.000000 | 0.000000 | 2.584963 | ⋯ | 0.000000 | 0.000000 | 0.000000 | 0.000000 | 0.000000 | 0.000000 | 0.000000 | 0.000000 | 0.000000 | 0.000000 |\n| ENSMUSG00000085770 |  4.700440 | 3.584963 | 1.000000 | 2.584963 |  3.000000 | 4.247928 |  2.321928 | 0.000000 | 0.000000 | 0.000000 | ⋯ | 0.000000 | 0.000000 | 0.000000 | 0.000000 | 0.000000 | 0.000000 | 0.000000 | 0.000000 | 0.000000 | 3.000000 |\n| ENSMUSG00000055320 |  4.857981 | 3.700440 | 1.584963 | 4.643856 |  4.584963 | 1.584963 |  1.000000 | 3.321928 | 3.459432 | 4.954196 | ⋯ | 3.459432 | 0.000000 | 3.000000 | 2.321928 | 0.000000 | 5.044394 | 5.169925 | 1.000000 | 2.321928 | 3.169925 |\n| ENSMUSG00000062933 |  7.693487 | 6.918863 | 8.129283 | 7.330917 |  9.074141 | 7.982994 |  7.768184 | 8.169925 | 7.483816 | 8.459432 | ⋯ | 7.622052 | 7.894818 | 7.339850 | 7.169925 | 7.592457 | 7.348728 | 7.965784 | 8.511753 | 8.214319 | 8.189825 |\n| ENSMUSG00000021820 |  5.954196 | 5.357552 | 6.882643 | 6.285402 |  6.507795 | 5.954196 |  4.169925 | 3.000000 | 5.247928 | 4.392317 | ⋯ | 5.392317 | 5.357552 | 4.169925 | 3.807355 | 4.584963 | 4.584963 | 5.857981 | 4.700440 | 4.087463 | 5.129283 |\n| ENSMUSG00000073802 |  0.000000 | 2.321928 | 0.000000 | 0.000000 |  1.584963 | 1.000000 |  0.000000 | 0.000000 | 0.000000 | 0.000000 | ⋯ | 1.584963 | 2.321928 | 0.000000 | 0.000000 | 0.000000 | 0.000000 | 0.000000 | 2.000000 | 0.000000 | 0.000000 |\n| ENSMUSG00000025967 |  7.139551 | 6.614710 | 7.294621 | 6.832890 |  6.930737 | 6.754888 |  7.820179 | 7.851749 | 8.577429 | 8.139551 | ⋯ | 8.826548 | 8.867279 | 7.285402 | 7.303781 | 7.562242 | 8.562242 | 8.204571 | 8.353147 | 8.189825 | 8.596190 |\n| ENSMUSG00000025950 |  0.000000 | 3.906891 | 3.906891 | 2.584963 |  0.000000 | 1.584963 |  4.321928 | 5.491853 | 4.169925 | 5.906891 | ⋯ | 5.285402 | 5.247928 | 5.087463 | 5.807355 | 6.129283 | 5.727920 | 5.930737 | 4.643856 | 6.599913 | 4.906891 |\n| ENSMUSG00000023150 |  7.562242 | 6.022368 | 7.813781 | 7.826548 |  6.149747 | 6.475733 |  7.442943 | 7.665336 | 8.243174 | 7.607330 | ⋯ | 6.539159 | 6.930737 | 7.321928 | 7.569856 | 8.357552 | 9.475733 | 8.519636 | 8.845490 | 7.748193 | 7.442943 |\n| ENSMUSG00000044176 |  0.000000 | 0.000000 | 0.000000 | 0.000000 |  2.000000 | 0.000000 |  0.000000 | 1.000000 | 1.000000 | 1.584963 | ⋯ | 0.000000 | 0.000000 | 0.000000 | 0.000000 | 0.000000 | 1.000000 | 0.000000 | 1.000000 | 0.000000 | 1.584963 |\n| ENSMUSG00000030802 |  4.392317 | 4.954196 | 4.754888 | 3.700440 |  6.087463 | 5.426265 |  4.700440 | 5.087463 | 4.584963 | 5.209453 | ⋯ | 3.459432 | 5.087463 | 5.357552 | 4.584963 | 5.247928 | 2.321928 | 5.392317 | 4.247928 | 5.129283 | 5.727920 |\n| ENSMUSG00000030413 |  4.857981 | 4.321928 | 4.954196 | 5.523562 |  7.303781 | 7.257388 |  2.000000 | 3.321928 | 2.584963 | 3.584963 | ⋯ | 0.000000 | 2.321928 | 3.584963 | 3.000000 | 3.000000 | 3.321928 | 4.169925 | 3.169925 | 4.247928 | 5.044394 |\n| ENSMUSG00000001707 |  8.224002 | 7.303781 | 7.491853 | 6.339850 |  7.918863 | 8.129283 |  7.748193 | 7.714246 | 7.577429 | 8.179909 | ⋯ | 6.643856 | 7.409391 | 7.011227 | 6.643856 | 7.599913 | 8.169925 | 8.303781 | 8.724514 | 7.451211 | 6.686501 |\n| ENSMUSG00000007872 |  2.807355 | 3.459432 | 1.584963 | 0.000000 |  1.584963 | 0.000000 |  3.807355 | 0.000000 | 1.000000 | 2.807355 | ⋯ | 5.087463 | 7.219169 | 5.247928 | 5.643856 | 3.584963 | 4.906891 | 7.321928 | 7.087463 | 6.409391 | 5.044394 |\n| ENSMUSG00000032463 |  4.321928 | 2.807355 | 3.000000 | 4.000000 |  5.614710 | 5.169925 |  3.000000 | 3.906891 | 3.584963 | 3.906891 | ⋯ | 4.000000 | 4.754888 | 3.584963 | 4.954196 | 2.807355 | 4.523562 | 4.584963 | 5.930737 | 4.857981 | 4.169925 |\n| ENSMUSG00000092515 |  0.000000 | 1.000000 | 0.000000 | 0.000000 |  2.000000 | 0.000000 |  1.584963 | 0.000000 | 0.000000 | 0.000000 | ⋯ | 0.000000 | 0.000000 | 0.000000 | 0.000000 | 0.000000 | 0.000000 | 0.000000 | 0.000000 | 0.000000 | 0.000000 |\n| ENSMUSG00000085493 |  0.000000 | 0.000000 | 0.000000 | 0.000000 |  0.000000 | 1.584963 |  0.000000 | 0.000000 | 0.000000 | 0.000000 | ⋯ | 0.000000 | 0.000000 | 0.000000 | 0.000000 | 1.000000 | 0.000000 | 1.000000 | 0.000000 | 0.000000 | 0.000000 |\n| ENSMUSG00000053964 |  0.000000 | 0.000000 | 0.000000 | 0.000000 |  0.000000 | 0.000000 |  0.000000 | 0.000000 | 0.000000 | 0.000000 | ⋯ | 0.000000 | 0.000000 | 0.000000 | 0.000000 | 0.000000 | 0.000000 | 2.321928 | 0.000000 | 1.584963 | 0.000000 |\n| ENSMUSG00000054622 |  0.000000 | 0.000000 | 0.000000 | 0.000000 |  0.000000 | 0.000000 |  0.000000 | 0.000000 | 0.000000 | 0.000000 | ⋯ | 0.000000 | 0.000000 | 0.000000 | 0.000000 | 0.000000 | 0.000000 | 0.000000 | 0.000000 | 0.000000 | 1.000000 |\n| ENSMUSG00000063696 | 10.088788 | 9.581201 | 9.385862 | 8.679480 | 10.456354 | 9.491853 | 10.044394 | 9.990104 | 9.197217 | 9.821774 | ⋯ | 7.507795 | 7.761551 | 8.832890 | 8.247928 | 9.074141 | 9.008429 | 9.228819 | 9.675957 | 9.266787 | 9.479780 |\n\n",
            "text/latex": "A matrix: 4720 × 124 of type dbl\n\\begin{tabular}{r|lllllllllllllllllllll}\n  & X2cell\\_1\\_A & X2cell\\_1\\_B & X2cell\\_2\\_A & X2cell\\_2\\_B & X2cell\\_3\\_A & X2cell\\_3\\_B & ME\\_4cell\\_1\\_A & ME\\_4cell\\_1\\_B & ME\\_4cell\\_1\\_C & ME\\_4cell\\_1\\_D & ⋯ & EM\\_4cell\\_5\\_C & EM\\_4cell\\_5\\_D & EM\\_4cell\\_6\\_A & EM\\_4cell\\_6\\_B & EM\\_4cell\\_6\\_C & EM\\_4cell\\_6\\_D & ME\\_4cell\\_6\\_A & ME\\_4cell\\_6\\_B & ME\\_4cell\\_6\\_C & ME\\_4cell\\_6\\_D\\\\\n\\hline\n\tENSMUSG00000038128 & 0.000000 & 0.000000 & 2.000000 & 0.000000 &  0.000000 & 0.000000 & 0.000000 & 0.000000 & 0.000000 & 0.000000 & ⋯ & 0.000000 & 0.000000 & 0.000000 & 0.000000 & 0.000000 &  0.000000 & 0.000000 &  0.000000 & 0.000000 & 0.000000\\\\\n\tENSMUSG00000031422 & 7.707359 & 6.700440 & 6.870365 & 7.366322 &  9.159871 & 8.159871 & 6.149747 & 7.098032 & 7.159871 & 7.044394 & ⋯ & 6.870365 & 6.491853 & 6.087463 & 5.857981 & 7.303781 &  8.584963 & 8.396605 &  8.000000 & 7.159871 & 6.228819\\\\\n\tENSMUSG00000083588 & 0.000000 & 1.000000 & 0.000000 & 0.000000 &  0.000000 & 0.000000 & 0.000000 & 0.000000 & 0.000000 & 0.000000 & ⋯ & 1.584963 & 1.584963 & 0.000000 & 0.000000 & 0.000000 &  0.000000 & 1.000000 &  0.000000 & 0.000000 & 0.000000\\\\\n\tENSMUSG00000020495 & 7.108524 & 6.044394 & 5.977280 & 5.643856 &  6.044394 & 5.459432 & 5.882643 & 3.700440 & 4.459432 & 4.643856 & ⋯ & 4.954196 & 5.614710 & 4.584963 & 4.169925 & 5.321928 &  4.321928 & 4.643856 &  4.321928 & 4.754888 & 5.491853\\\\\n\tENSMUSG00000029438 & 5.426265 & 3.459432 & 5.209453 & 4.643856 &  5.832890 & 5.129283 & 5.459432 & 5.930737 & 6.266787 & 5.727920 & ⋯ & 5.459432 & 5.491853 & 5.727920 & 5.491853 & 5.781360 &  5.906891 & 5.614710 &  6.672425 & 6.375039 & 4.906891\\\\\n\tENSMUSG00000091195 & 0.000000 & 0.000000 & 0.000000 & 0.000000 &  1.000000 & 0.000000 & 0.000000 & 0.000000 & 0.000000 & 0.000000 & ⋯ & 0.000000 & 0.000000 & 0.000000 & 0.000000 & 0.000000 &  0.000000 & 0.000000 &  0.000000 & 0.000000 & 0.000000\\\\\n\tENSMUSG00000073559 & 4.000000 & 2.584963 & 3.321928 & 2.807355 &  4.700440 & 2.807355 & 2.584963 & 4.169925 & 3.459432 & 3.700440 & ⋯ & 2.584963 & 3.459432 & 2.000000 & 1.000000 & 2.584963 &  3.000000 & 3.807355 &  3.321928 & 3.169925 & 3.584963\\\\\n\tENSMUSG00000054252 & 1.949430 & 0.000000 & 1.219907 & 2.230981 &  2.584963 & 2.467533 & 0.000000 & 1.000000 & 0.000000 & 2.584963 & ⋯ & 0.000000 & 0.000000 & 0.000000 & 2.321928 & 2.321928 &  3.700440 & 0.000000 &  3.169925 & 2.321928 & 2.807355\\\\\n\tENSMUSG00000099498 & 1.000000 & 2.000000 & 0.000000 & 0.000000 &  1.584963 & 0.000000 & 0.000000 & 0.000000 & 0.000000 & 0.000000 & ⋯ & 0.000000 & 0.000000 & 0.000000 & 1.000000 & 0.000000 &  1.000000 & 0.000000 &  0.000000 & 1.000000 & 0.000000\\\\\n\tENSMUSG00000032103 & 0.000000 & 0.000000 & 0.000000 & 0.000000 &  0.000000 & 0.000000 & 1.000000 & 0.000000 & 0.000000 & 0.000000 & ⋯ & 0.000000 & 0.000000 & 1.000000 & 0.000000 & 0.000000 &  0.000000 & 0.000000 &  0.000000 & 0.000000 & 0.000000\\\\\n\tENSMUSG00000055385 & 3.321928 & 1.584963 & 3.000000 & 0.000000 &  2.000000 & 0.000000 & 2.807355 & 1.000000 & 1.000000 & 0.000000 & ⋯ & 0.000000 & 3.321928 & 0.000000 & 1.584963 & 0.000000 &  0.000000 & 1.584963 &  2.321928 & 1.000000 & 0.000000\\\\\n\tENSMUSG00000003269 & 7.577429 & 6.228819 & 6.629357 & 6.066089 &  8.280771 & 7.366322 & 7.523562 & 7.098032 & 7.451211 & 7.348728 & ⋯ & 7.499846 & 8.214319 & 6.643856 & 6.700440 & 7.266787 &  7.569856 & 6.930737 &  7.912889 & 8.129283 & 7.894818\\\\\n\tENSMUSG00000096701 & 0.000000 & 0.000000 & 0.000000 & 1.000000 &  0.000000 & 1.584963 & 0.000000 & 0.000000 & 0.000000 & 1.584963 & ⋯ & 0.000000 & 0.000000 & 0.000000 & 0.000000 & 0.000000 &  0.000000 & 0.000000 &  0.000000 & 0.000000 & 0.000000\\\\\n\tENSMUSG00000070637 & 1.000000 & 0.000000 & 1.000000 & 0.000000 &  0.000000 & 1.000000 & 0.000000 & 0.000000 & 0.000000 & 0.000000 & ⋯ & 0.000000 & 0.000000 & 0.000000 & 0.000000 & 0.000000 &  0.000000 & 0.000000 &  0.000000 & 0.000000 & 0.000000\\\\\n\tENSMUSG00000072893 & 3.321928 & 3.321928 & 2.584963 & 1.000000 &  3.306519 & 3.169925 & 1.715547 & 2.000000 & 1.584963 & 2.000000 & ⋯ & 1.658680 & 1.928354 & 1.584963 & 0.000000 & 1.068300 &  1.000000 & 1.000000 &  2.321928 & 1.716303 & 1.876331\\\\\n\tENSMUSG00000030200 & 8.622052 & 7.584963 & 7.417853 & 7.149747 &  8.184875 & 8.000000 & 8.366322 & 8.139551 & 7.491853 & 7.912889 & ⋯ & 8.092757 & 6.965784 & 6.727920 & 6.584963 & 6.149747 &  5.554589 & 7.622052 &  7.754888 & 7.400879 & 7.459432\\\\\n\tENSMUSG00000024386 & 0.000000 & 2.584963 & 0.000000 & 0.000000 &  3.000000 & 0.000000 & 0.000000 & 1.000000 & 1.584963 & 0.000000 & ⋯ & 0.000000 & 0.000000 & 0.000000 & 0.000000 & 1.000000 &  0.000000 & 0.000000 &  0.000000 & 1.000000 & 0.000000\\\\\n\tENSMUSG00000059981 & 4.807355 & 3.459432 & 1.584963 & 4.321928 &  4.700440 & 3.459432 & 4.247928 & 4.321928 & 4.523562 & 3.700440 & ⋯ & 3.584963 & 5.930737 & 4.000000 & 2.321928 & 3.169925 &  2.807355 & 4.523562 &  4.807355 & 5.087463 & 4.000000\\\\\n\tENSMUSG00000084383 & 2.000000 & 0.000000 & 3.000000 & 0.000000 &  2.584963 & 1.584963 & 2.321928 & 1.000000 & 3.000000 & 2.584963 & ⋯ & 3.321928 & 3.459432 & 2.321928 & 0.000000 & 1.584963 &  2.807355 & 2.584963 &  1.000000 & 2.000000 & 1.000000\\\\\n\tENSMUSG00000069910 & 9.044394 & 8.144658 & 9.076816 & 8.618386 &  9.663558 & 8.945444 & 7.339850 & 7.375039 & 6.870365 & 6.392317 & ⋯ & 6.686501 & 7.459432 & 5.727920 & 6.392317 & 6.832890 &  7.383704 & 6.942515 &  7.294621 & 6.894818 & 6.108524\\\\\n\tENSMUSG00000035692 & 0.000000 & 1.000000 & 1.000000 & 1.000000 &  2.584963 & 2.584963 & 1.000000 & 0.000000 & 0.000000 & 0.000000 & ⋯ & 0.000000 & 0.000000 & 0.000000 & 0.000000 & 1.584963 &  0.000000 & 0.000000 &  0.000000 & 1.000000 & 0.000000\\\\\n\tENSMUSG00000021111 & 9.172428 & 8.531381 & 8.933691 & 8.758223 & 10.092757 & 9.339850 & 8.771489 & 8.965784 & 8.629357 & 9.111136 & ⋯ & 8.748193 & 8.233620 & 7.562242 & 8.434628 & 9.047124 & 10.060696 & 9.696968 & 10.782179 & 9.209453 & 8.994353\\\\\n\tENSMUSG00000023279 & 7.098032 & 6.357552 & 6.906891 & 7.531381 &  7.942515 & 7.686501 & 3.321928 & 2.584963 & 3.807355 & 4.247928 & ⋯ & 3.459432 & 3.807355 & 3.169925 & 3.700440 & 4.459432 &  5.727920 & 1.000000 &  1.584963 & 3.169925 & 3.807355\\\\\n\tENSMUSG00000044172 & 2.584963 & 0.000000 & 0.000000 & 0.000000 &  0.000000 & 1.000000 & 0.000000 & 0.000000 & 0.000000 & 0.000000 & ⋯ & 0.000000 & 0.000000 & 0.000000 & 0.000000 & 0.000000 &  0.000000 & 0.000000 &  2.584963 & 2.321928 & 0.000000\\\\\n\tENSMUSG00000041040 & 6.426265 & 5.643856 & 6.392317 & 6.303781 &  7.055282 & 5.754888 & 2.584963 & 4.754888 & 3.807355 & 3.459432 & ⋯ & 4.954196 & 5.357552 & 3.906891 & 3.906891 & 5.044394 &  5.930737 & 6.303781 &  3.584963 & 5.087463 & 4.584963\\\\\n\tENSMUSG00000046500 & 0.000000 & 2.000000 & 2.000000 & 1.000000 &  4.954196 & 2.807355 & 0.000000 & 0.000000 & 0.000000 & 0.000000 & ⋯ & 0.000000 & 0.000000 & 0.000000 & 0.000000 & 0.000000 &  0.000000 & 0.000000 &  0.000000 & 0.000000 & 0.000000\\\\\n\tENSMUSG00000084569 & 0.000000 & 0.000000 & 1.000000 & 1.584963 &  0.000000 & 0.000000 & 0.000000 & 1.000000 & 0.000000 & 0.000000 & ⋯ & 0.000000 & 0.000000 & 0.000000 & 0.000000 & 0.000000 &  0.000000 & 0.000000 &  1.000000 & 0.000000 & 0.000000\\\\\n\tENSMUSG00000037300 & 2.321928 & 2.584963 & 2.000000 & 2.807355 &  5.643856 & 3.906891 & 3.584963 & 2.584963 & 3.000000 & 2.807355 & ⋯ & 4.643856 & 4.857981 & 3.000000 & 1.000000 & 3.000000 &  4.000000 & 5.000000 &  3.000000 & 3.000000 & 4.523562\\\\\n\tENSMUSG00000022105 & 6.475733 & 6.700440 & 6.857981 & 6.629357 &  7.426265 & 6.539159 & 4.523562 & 2.584963 & 4.169925 & 3.584963 & ⋯ & 4.321928 & 3.321928 & 2.584963 & 3.321928 & 5.491853 &  6.066089 & 6.000000 &  5.857981 & 3.906891 & 5.672425\\\\\n\tENSMUSG00000096917 & 5.392317 & 5.000000 & 5.781360 & 5.754888 &  6.189825 & 5.781360 & 2.807355 & 3.169925 & 1.000000 & 1.000000 & ⋯ & 3.906891 & 1.000000 & 1.000000 & 2.321928 & 3.169925 &  3.321928 & 3.000000 &  4.087463 & 3.459432 & 3.000000\\\\\n\t⋮ & ⋮ & ⋮ & ⋮ & ⋮ & ⋮ & ⋮ & ⋮ & ⋮ & ⋮ & ⋮ & ⋱ & ⋮ & ⋮ & ⋮ & ⋮ & ⋮ & ⋮ & ⋮ & ⋮ & ⋮ & ⋮\\\\\n\tENSMUSG00000095500 &  1.000000 & 2.000000 & 0.000000 & 1.000000 &  2.000000 & 0.000000 &  1.584963 & 1.000000 & 0.000000 & 0.000000 & ⋯ & 0.000000 & 1.000000 & 0.000000 & 0.000000 & 1.000000 & 0.000000 & 1.584963 & 0.000000 & 1.584963 & 2.000000\\\\\n\tENSMUSG00000029817 &  8.379378 & 7.303781 & 8.189825 & 7.483816 &  8.758223 & 7.499846 &  6.714246 & 6.321928 & 6.539159 & 6.643856 & ⋯ & 7.044394 & 6.266787 & 6.209453 & 5.977280 & 7.584963 & 8.290019 & 8.784635 & 8.247928 & 6.491853 & 6.442943\\\\\n\tENSMUSG00000029213 &  4.584963 & 2.584963 & 3.700440 & 0.000000 &  0.000000 & 1.584963 &  4.754888 & 2.584963 & 4.954196 & 4.754888 & ⋯ & 2.321928 & 3.807355 & 4.169925 & 4.169925 & 5.700440 & 5.727920 & 5.807355 & 5.459432 & 2.807355 & 1.584963\\\\\n\tENSMUSG00000021640 &  0.000000 & 0.000000 & 0.000000 & 1.000000 &  0.000000 & 0.000000 &  0.000000 & 0.000000 & 0.000000 & 0.000000 & ⋯ & 1.000000 & 0.000000 & 0.000000 & 0.000000 & 0.000000 & 0.000000 & 0.000000 & 0.000000 & 0.000000 & 0.000000\\\\\n\tENSMUSG00000021639 &  6.584963 & 5.129283 & 7.607330 & 6.321928 &  6.781360 & 6.169925 &  6.845490 & 7.247928 & 6.629357 & 6.794416 & ⋯ & 6.321928 & 6.965784 & 4.857981 & 5.554589 & 7.108524 & 7.228819 & 7.434628 & 7.055282 & 6.870365 & 6.741467\\\\\n\tENSMUSG00000024854 &  0.000000 & 0.000000 & 0.000000 & 0.000000 &  2.584963 & 0.000000 &  0.000000 & 0.000000 & 0.000000 & 2.807355 & ⋯ & 0.000000 & 0.000000 & 0.000000 & 0.000000 & 0.000000 & 2.584963 & 0.000000 & 2.000000 & 0.000000 & 0.000000\\\\\n\tENSMUSG00000022426 &  4.321928 & 2.807355 & 5.357552 & 5.832890 &  6.882643 & 4.906891 &  3.584963 & 1.584963 & 1.000000 & 2.321928 & ⋯ & 3.807355 & 3.459432 & 3.169925 & 0.000000 & 4.584963 & 1.584963 & 4.087463 & 4.523562 & 4.000000 & 2.321928\\\\\n\tENSMUSG00000084816 &  1.584963 & 0.000000 & 2.000000 & 2.000000 &  2.807355 & 1.000000 &  3.321928 & 2.000000 & 3.700440 & 1.000000 & ⋯ & 2.000000 & 0.000000 & 2.321928 & 1.584963 & 2.000000 & 3.321928 & 0.000000 & 1.000000 & 1.584963 & 0.000000\\\\\n\tENSMUSG00000052852 &  1.584963 & 2.584963 & 2.000000 & 4.000000 &  3.584963 & 3.584963 &  5.554589 & 6.727920 & 6.375039 & 5.357552 & ⋯ & 5.491853 & 7.022368 & 7.599913 & 6.754888 & 6.906891 & 7.189825 & 7.658211 & 8.584963 & 6.022368 & 6.614710\\\\\n\tENSMUSG00000024410 &  7.614710 & 7.569856 & 7.169925 & 6.491853 &  8.149747 & 7.906891 &  7.330917 & 6.022368 & 6.857981 & 6.108524 & ⋯ & 6.714246 & 6.754888 & 6.285402 & 7.044394 & 5.554589 & 6.189825 & 6.599913 & 7.375039 & 6.475733 & 7.912889\\\\\n\tENSMUSG00000026304 &  0.000000 & 0.000000 & 0.000000 & 0.000000 &  2.321928 & 0.000000 &  0.000000 & 0.000000 & 0.000000 & 2.584963 & ⋯ & 0.000000 & 0.000000 & 0.000000 & 0.000000 & 0.000000 & 0.000000 & 0.000000 & 0.000000 & 0.000000 & 0.000000\\\\\n\tENSMUSG00000085770 &  4.700440 & 3.584963 & 1.000000 & 2.584963 &  3.000000 & 4.247928 &  2.321928 & 0.000000 & 0.000000 & 0.000000 & ⋯ & 0.000000 & 0.000000 & 0.000000 & 0.000000 & 0.000000 & 0.000000 & 0.000000 & 0.000000 & 0.000000 & 3.000000\\\\\n\tENSMUSG00000055320 &  4.857981 & 3.700440 & 1.584963 & 4.643856 &  4.584963 & 1.584963 &  1.000000 & 3.321928 & 3.459432 & 4.954196 & ⋯ & 3.459432 & 0.000000 & 3.000000 & 2.321928 & 0.000000 & 5.044394 & 5.169925 & 1.000000 & 2.321928 & 3.169925\\\\\n\tENSMUSG00000062933 &  7.693487 & 6.918863 & 8.129283 & 7.330917 &  9.074141 & 7.982994 &  7.768184 & 8.169925 & 7.483816 & 8.459432 & ⋯ & 7.622052 & 7.894818 & 7.339850 & 7.169925 & 7.592457 & 7.348728 & 7.965784 & 8.511753 & 8.214319 & 8.189825\\\\\n\tENSMUSG00000021820 &  5.954196 & 5.357552 & 6.882643 & 6.285402 &  6.507795 & 5.954196 &  4.169925 & 3.000000 & 5.247928 & 4.392317 & ⋯ & 5.392317 & 5.357552 & 4.169925 & 3.807355 & 4.584963 & 4.584963 & 5.857981 & 4.700440 & 4.087463 & 5.129283\\\\\n\tENSMUSG00000073802 &  0.000000 & 2.321928 & 0.000000 & 0.000000 &  1.584963 & 1.000000 &  0.000000 & 0.000000 & 0.000000 & 0.000000 & ⋯ & 1.584963 & 2.321928 & 0.000000 & 0.000000 & 0.000000 & 0.000000 & 0.000000 & 2.000000 & 0.000000 & 0.000000\\\\\n\tENSMUSG00000025967 &  7.139551 & 6.614710 & 7.294621 & 6.832890 &  6.930737 & 6.754888 &  7.820179 & 7.851749 & 8.577429 & 8.139551 & ⋯ & 8.826548 & 8.867279 & 7.285402 & 7.303781 & 7.562242 & 8.562242 & 8.204571 & 8.353147 & 8.189825 & 8.596190\\\\\n\tENSMUSG00000025950 &  0.000000 & 3.906891 & 3.906891 & 2.584963 &  0.000000 & 1.584963 &  4.321928 & 5.491853 & 4.169925 & 5.906891 & ⋯ & 5.285402 & 5.247928 & 5.087463 & 5.807355 & 6.129283 & 5.727920 & 5.930737 & 4.643856 & 6.599913 & 4.906891\\\\\n\tENSMUSG00000023150 &  7.562242 & 6.022368 & 7.813781 & 7.826548 &  6.149747 & 6.475733 &  7.442943 & 7.665336 & 8.243174 & 7.607330 & ⋯ & 6.539159 & 6.930737 & 7.321928 & 7.569856 & 8.357552 & 9.475733 & 8.519636 & 8.845490 & 7.748193 & 7.442943\\\\\n\tENSMUSG00000044176 &  0.000000 & 0.000000 & 0.000000 & 0.000000 &  2.000000 & 0.000000 &  0.000000 & 1.000000 & 1.000000 & 1.584963 & ⋯ & 0.000000 & 0.000000 & 0.000000 & 0.000000 & 0.000000 & 1.000000 & 0.000000 & 1.000000 & 0.000000 & 1.584963\\\\\n\tENSMUSG00000030802 &  4.392317 & 4.954196 & 4.754888 & 3.700440 &  6.087463 & 5.426265 &  4.700440 & 5.087463 & 4.584963 & 5.209453 & ⋯ & 3.459432 & 5.087463 & 5.357552 & 4.584963 & 5.247928 & 2.321928 & 5.392317 & 4.247928 & 5.129283 & 5.727920\\\\\n\tENSMUSG00000030413 &  4.857981 & 4.321928 & 4.954196 & 5.523562 &  7.303781 & 7.257388 &  2.000000 & 3.321928 & 2.584963 & 3.584963 & ⋯ & 0.000000 & 2.321928 & 3.584963 & 3.000000 & 3.000000 & 3.321928 & 4.169925 & 3.169925 & 4.247928 & 5.044394\\\\\n\tENSMUSG00000001707 &  8.224002 & 7.303781 & 7.491853 & 6.339850 &  7.918863 & 8.129283 &  7.748193 & 7.714246 & 7.577429 & 8.179909 & ⋯ & 6.643856 & 7.409391 & 7.011227 & 6.643856 & 7.599913 & 8.169925 & 8.303781 & 8.724514 & 7.451211 & 6.686501\\\\\n\tENSMUSG00000007872 &  2.807355 & 3.459432 & 1.584963 & 0.000000 &  1.584963 & 0.000000 &  3.807355 & 0.000000 & 1.000000 & 2.807355 & ⋯ & 5.087463 & 7.219169 & 5.247928 & 5.643856 & 3.584963 & 4.906891 & 7.321928 & 7.087463 & 6.409391 & 5.044394\\\\\n\tENSMUSG00000032463 &  4.321928 & 2.807355 & 3.000000 & 4.000000 &  5.614710 & 5.169925 &  3.000000 & 3.906891 & 3.584963 & 3.906891 & ⋯ & 4.000000 & 4.754888 & 3.584963 & 4.954196 & 2.807355 & 4.523562 & 4.584963 & 5.930737 & 4.857981 & 4.169925\\\\\n\tENSMUSG00000092515 &  0.000000 & 1.000000 & 0.000000 & 0.000000 &  2.000000 & 0.000000 &  1.584963 & 0.000000 & 0.000000 & 0.000000 & ⋯ & 0.000000 & 0.000000 & 0.000000 & 0.000000 & 0.000000 & 0.000000 & 0.000000 & 0.000000 & 0.000000 & 0.000000\\\\\n\tENSMUSG00000085493 &  0.000000 & 0.000000 & 0.000000 & 0.000000 &  0.000000 & 1.584963 &  0.000000 & 0.000000 & 0.000000 & 0.000000 & ⋯ & 0.000000 & 0.000000 & 0.000000 & 0.000000 & 1.000000 & 0.000000 & 1.000000 & 0.000000 & 0.000000 & 0.000000\\\\\n\tENSMUSG00000053964 &  0.000000 & 0.000000 & 0.000000 & 0.000000 &  0.000000 & 0.000000 &  0.000000 & 0.000000 & 0.000000 & 0.000000 & ⋯ & 0.000000 & 0.000000 & 0.000000 & 0.000000 & 0.000000 & 0.000000 & 2.321928 & 0.000000 & 1.584963 & 0.000000\\\\\n\tENSMUSG00000054622 &  0.000000 & 0.000000 & 0.000000 & 0.000000 &  0.000000 & 0.000000 &  0.000000 & 0.000000 & 0.000000 & 0.000000 & ⋯ & 0.000000 & 0.000000 & 0.000000 & 0.000000 & 0.000000 & 0.000000 & 0.000000 & 0.000000 & 0.000000 & 1.000000\\\\\n\tENSMUSG00000063696 & 10.088788 & 9.581201 & 9.385862 & 8.679480 & 10.456354 & 9.491853 & 10.044394 & 9.990104 & 9.197217 & 9.821774 & ⋯ & 7.507795 & 7.761551 & 8.832890 & 8.247928 & 9.074141 & 9.008429 & 9.228819 & 9.675957 & 9.266787 & 9.479780\\\\\n\\end{tabular}\n",
            "text/plain": [
              "                   X2cell_1_A X2cell_1_B X2cell_2_A X2cell_2_B X2cell_3_A\n",
              "ENSMUSG00000038128 0.000000   0.000000   2.000000   0.000000    0.000000 \n",
              "ENSMUSG00000031422 7.707359   6.700440   6.870365   7.366322    9.159871 \n",
              "ENSMUSG00000083588 0.000000   1.000000   0.000000   0.000000    0.000000 \n",
              "ENSMUSG00000020495 7.108524   6.044394   5.977280   5.643856    6.044394 \n",
              "ENSMUSG00000029438 5.426265   3.459432   5.209453   4.643856    5.832890 \n",
              "ENSMUSG00000091195 0.000000   0.000000   0.000000   0.000000    1.000000 \n",
              "ENSMUSG00000073559 4.000000   2.584963   3.321928   2.807355    4.700440 \n",
              "ENSMUSG00000054252 1.949430   0.000000   1.219907   2.230981    2.584963 \n",
              "ENSMUSG00000099498 1.000000   2.000000   0.000000   0.000000    1.584963 \n",
              "ENSMUSG00000032103 0.000000   0.000000   0.000000   0.000000    0.000000 \n",
              "ENSMUSG00000055385 3.321928   1.584963   3.000000   0.000000    2.000000 \n",
              "ENSMUSG00000003269 7.577429   6.228819   6.629357   6.066089    8.280771 \n",
              "ENSMUSG00000096701 0.000000   0.000000   0.000000   1.000000    0.000000 \n",
              "ENSMUSG00000070637 1.000000   0.000000   1.000000   0.000000    0.000000 \n",
              "ENSMUSG00000072893 3.321928   3.321928   2.584963   1.000000    3.306519 \n",
              "ENSMUSG00000030200 8.622052   7.584963   7.417853   7.149747    8.184875 \n",
              "ENSMUSG00000024386 0.000000   2.584963   0.000000   0.000000    3.000000 \n",
              "ENSMUSG00000059981 4.807355   3.459432   1.584963   4.321928    4.700440 \n",
              "ENSMUSG00000084383 2.000000   0.000000   3.000000   0.000000    2.584963 \n",
              "ENSMUSG00000069910 9.044394   8.144658   9.076816   8.618386    9.663558 \n",
              "ENSMUSG00000035692 0.000000   1.000000   1.000000   1.000000    2.584963 \n",
              "ENSMUSG00000021111 9.172428   8.531381   8.933691   8.758223   10.092757 \n",
              "ENSMUSG00000023279 7.098032   6.357552   6.906891   7.531381    7.942515 \n",
              "ENSMUSG00000044172 2.584963   0.000000   0.000000   0.000000    0.000000 \n",
              "ENSMUSG00000041040 6.426265   5.643856   6.392317   6.303781    7.055282 \n",
              "ENSMUSG00000046500 0.000000   2.000000   2.000000   1.000000    4.954196 \n",
              "ENSMUSG00000084569 0.000000   0.000000   1.000000   1.584963    0.000000 \n",
              "ENSMUSG00000037300 2.321928   2.584963   2.000000   2.807355    5.643856 \n",
              "ENSMUSG00000022105 6.475733   6.700440   6.857981   6.629357    7.426265 \n",
              "ENSMUSG00000096917 5.392317   5.000000   5.781360   5.754888    6.189825 \n",
              "⋮                  ⋮          ⋮          ⋮          ⋮          ⋮         \n",
              "ENSMUSG00000095500  1.000000  2.000000   0.000000   1.000000    2.000000 \n",
              "ENSMUSG00000029817  8.379378  7.303781   8.189825   7.483816    8.758223 \n",
              "ENSMUSG00000029213  4.584963  2.584963   3.700440   0.000000    0.000000 \n",
              "ENSMUSG00000021640  0.000000  0.000000   0.000000   1.000000    0.000000 \n",
              "ENSMUSG00000021639  6.584963  5.129283   7.607330   6.321928    6.781360 \n",
              "ENSMUSG00000024854  0.000000  0.000000   0.000000   0.000000    2.584963 \n",
              "ENSMUSG00000022426  4.321928  2.807355   5.357552   5.832890    6.882643 \n",
              "ENSMUSG00000084816  1.584963  0.000000   2.000000   2.000000    2.807355 \n",
              "ENSMUSG00000052852  1.584963  2.584963   2.000000   4.000000    3.584963 \n",
              "ENSMUSG00000024410  7.614710  7.569856   7.169925   6.491853    8.149747 \n",
              "ENSMUSG00000026304  0.000000  0.000000   0.000000   0.000000    2.321928 \n",
              "ENSMUSG00000085770  4.700440  3.584963   1.000000   2.584963    3.000000 \n",
              "ENSMUSG00000055320  4.857981  3.700440   1.584963   4.643856    4.584963 \n",
              "ENSMUSG00000062933  7.693487  6.918863   8.129283   7.330917    9.074141 \n",
              "ENSMUSG00000021820  5.954196  5.357552   6.882643   6.285402    6.507795 \n",
              "ENSMUSG00000073802  0.000000  2.321928   0.000000   0.000000    1.584963 \n",
              "ENSMUSG00000025967  7.139551  6.614710   7.294621   6.832890    6.930737 \n",
              "ENSMUSG00000025950  0.000000  3.906891   3.906891   2.584963    0.000000 \n",
              "ENSMUSG00000023150  7.562242  6.022368   7.813781   7.826548    6.149747 \n",
              "ENSMUSG00000044176  0.000000  0.000000   0.000000   0.000000    2.000000 \n",
              "ENSMUSG00000030802  4.392317  4.954196   4.754888   3.700440    6.087463 \n",
              "ENSMUSG00000030413  4.857981  4.321928   4.954196   5.523562    7.303781 \n",
              "ENSMUSG00000001707  8.224002  7.303781   7.491853   6.339850    7.918863 \n",
              "ENSMUSG00000007872  2.807355  3.459432   1.584963   0.000000    1.584963 \n",
              "ENSMUSG00000032463  4.321928  2.807355   3.000000   4.000000    5.614710 \n",
              "ENSMUSG00000092515  0.000000  1.000000   0.000000   0.000000    2.000000 \n",
              "ENSMUSG00000085493  0.000000  0.000000   0.000000   0.000000    0.000000 \n",
              "ENSMUSG00000053964  0.000000  0.000000   0.000000   0.000000    0.000000 \n",
              "ENSMUSG00000054622  0.000000  0.000000   0.000000   0.000000    0.000000 \n",
              "ENSMUSG00000063696 10.088788  9.581201   9.385862   8.679480   10.456354 \n",
              "                   X2cell_3_B ME_4cell_1_A ME_4cell_1_B ME_4cell_1_C\n",
              "ENSMUSG00000038128 0.000000   0.000000     0.000000     0.000000    \n",
              "ENSMUSG00000031422 8.159871   6.149747     7.098032     7.159871    \n",
              "ENSMUSG00000083588 0.000000   0.000000     0.000000     0.000000    \n",
              "ENSMUSG00000020495 5.459432   5.882643     3.700440     4.459432    \n",
              "ENSMUSG00000029438 5.129283   5.459432     5.930737     6.266787    \n",
              "ENSMUSG00000091195 0.000000   0.000000     0.000000     0.000000    \n",
              "ENSMUSG00000073559 2.807355   2.584963     4.169925     3.459432    \n",
              "ENSMUSG00000054252 2.467533   0.000000     1.000000     0.000000    \n",
              "ENSMUSG00000099498 0.000000   0.000000     0.000000     0.000000    \n",
              "ENSMUSG00000032103 0.000000   1.000000     0.000000     0.000000    \n",
              "ENSMUSG00000055385 0.000000   2.807355     1.000000     1.000000    \n",
              "ENSMUSG00000003269 7.366322   7.523562     7.098032     7.451211    \n",
              "ENSMUSG00000096701 1.584963   0.000000     0.000000     0.000000    \n",
              "ENSMUSG00000070637 1.000000   0.000000     0.000000     0.000000    \n",
              "ENSMUSG00000072893 3.169925   1.715547     2.000000     1.584963    \n",
              "ENSMUSG00000030200 8.000000   8.366322     8.139551     7.491853    \n",
              "ENSMUSG00000024386 0.000000   0.000000     1.000000     1.584963    \n",
              "ENSMUSG00000059981 3.459432   4.247928     4.321928     4.523562    \n",
              "ENSMUSG00000084383 1.584963   2.321928     1.000000     3.000000    \n",
              "ENSMUSG00000069910 8.945444   7.339850     7.375039     6.870365    \n",
              "ENSMUSG00000035692 2.584963   1.000000     0.000000     0.000000    \n",
              "ENSMUSG00000021111 9.339850   8.771489     8.965784     8.629357    \n",
              "ENSMUSG00000023279 7.686501   3.321928     2.584963     3.807355    \n",
              "ENSMUSG00000044172 1.000000   0.000000     0.000000     0.000000    \n",
              "ENSMUSG00000041040 5.754888   2.584963     4.754888     3.807355    \n",
              "ENSMUSG00000046500 2.807355   0.000000     0.000000     0.000000    \n",
              "ENSMUSG00000084569 0.000000   0.000000     1.000000     0.000000    \n",
              "ENSMUSG00000037300 3.906891   3.584963     2.584963     3.000000    \n",
              "ENSMUSG00000022105 6.539159   4.523562     2.584963     4.169925    \n",
              "ENSMUSG00000096917 5.781360   2.807355     3.169925     1.000000    \n",
              "⋮                  ⋮          ⋮            ⋮            ⋮           \n",
              "ENSMUSG00000095500 0.000000    1.584963    1.000000     0.000000    \n",
              "ENSMUSG00000029817 7.499846    6.714246    6.321928     6.539159    \n",
              "ENSMUSG00000029213 1.584963    4.754888    2.584963     4.954196    \n",
              "ENSMUSG00000021640 0.000000    0.000000    0.000000     0.000000    \n",
              "ENSMUSG00000021639 6.169925    6.845490    7.247928     6.629357    \n",
              "ENSMUSG00000024854 0.000000    0.000000    0.000000     0.000000    \n",
              "ENSMUSG00000022426 4.906891    3.584963    1.584963     1.000000    \n",
              "ENSMUSG00000084816 1.000000    3.321928    2.000000     3.700440    \n",
              "ENSMUSG00000052852 3.584963    5.554589    6.727920     6.375039    \n",
              "ENSMUSG00000024410 7.906891    7.330917    6.022368     6.857981    \n",
              "ENSMUSG00000026304 0.000000    0.000000    0.000000     0.000000    \n",
              "ENSMUSG00000085770 4.247928    2.321928    0.000000     0.000000    \n",
              "ENSMUSG00000055320 1.584963    1.000000    3.321928     3.459432    \n",
              "ENSMUSG00000062933 7.982994    7.768184    8.169925     7.483816    \n",
              "ENSMUSG00000021820 5.954196    4.169925    3.000000     5.247928    \n",
              "ENSMUSG00000073802 1.000000    0.000000    0.000000     0.000000    \n",
              "ENSMUSG00000025967 6.754888    7.820179    7.851749     8.577429    \n",
              "ENSMUSG00000025950 1.584963    4.321928    5.491853     4.169925    \n",
              "ENSMUSG00000023150 6.475733    7.442943    7.665336     8.243174    \n",
              "ENSMUSG00000044176 0.000000    0.000000    1.000000     1.000000    \n",
              "ENSMUSG00000030802 5.426265    4.700440    5.087463     4.584963    \n",
              "ENSMUSG00000030413 7.257388    2.000000    3.321928     2.584963    \n",
              "ENSMUSG00000001707 8.129283    7.748193    7.714246     7.577429    \n",
              "ENSMUSG00000007872 0.000000    3.807355    0.000000     1.000000    \n",
              "ENSMUSG00000032463 5.169925    3.000000    3.906891     3.584963    \n",
              "ENSMUSG00000092515 0.000000    1.584963    0.000000     0.000000    \n",
              "ENSMUSG00000085493 1.584963    0.000000    0.000000     0.000000    \n",
              "ENSMUSG00000053964 0.000000    0.000000    0.000000     0.000000    \n",
              "ENSMUSG00000054622 0.000000    0.000000    0.000000     0.000000    \n",
              "ENSMUSG00000063696 9.491853   10.044394    9.990104     9.197217    \n",
              "                   ME_4cell_1_D ⋯ EM_4cell_5_C EM_4cell_5_D EM_4cell_6_A\n",
              "ENSMUSG00000038128 0.000000     ⋯ 0.000000     0.000000     0.000000    \n",
              "ENSMUSG00000031422 7.044394     ⋯ 6.870365     6.491853     6.087463    \n",
              "ENSMUSG00000083588 0.000000     ⋯ 1.584963     1.584963     0.000000    \n",
              "ENSMUSG00000020495 4.643856     ⋯ 4.954196     5.614710     4.584963    \n",
              "ENSMUSG00000029438 5.727920     ⋯ 5.459432     5.491853     5.727920    \n",
              "ENSMUSG00000091195 0.000000     ⋯ 0.000000     0.000000     0.000000    \n",
              "ENSMUSG00000073559 3.700440     ⋯ 2.584963     3.459432     2.000000    \n",
              "ENSMUSG00000054252 2.584963     ⋯ 0.000000     0.000000     0.000000    \n",
              "ENSMUSG00000099498 0.000000     ⋯ 0.000000     0.000000     0.000000    \n",
              "ENSMUSG00000032103 0.000000     ⋯ 0.000000     0.000000     1.000000    \n",
              "ENSMUSG00000055385 0.000000     ⋯ 0.000000     3.321928     0.000000    \n",
              "ENSMUSG00000003269 7.348728     ⋯ 7.499846     8.214319     6.643856    \n",
              "ENSMUSG00000096701 1.584963     ⋯ 0.000000     0.000000     0.000000    \n",
              "ENSMUSG00000070637 0.000000     ⋯ 0.000000     0.000000     0.000000    \n",
              "ENSMUSG00000072893 2.000000     ⋯ 1.658680     1.928354     1.584963    \n",
              "ENSMUSG00000030200 7.912889     ⋯ 8.092757     6.965784     6.727920    \n",
              "ENSMUSG00000024386 0.000000     ⋯ 0.000000     0.000000     0.000000    \n",
              "ENSMUSG00000059981 3.700440     ⋯ 3.584963     5.930737     4.000000    \n",
              "ENSMUSG00000084383 2.584963     ⋯ 3.321928     3.459432     2.321928    \n",
              "ENSMUSG00000069910 6.392317     ⋯ 6.686501     7.459432     5.727920    \n",
              "ENSMUSG00000035692 0.000000     ⋯ 0.000000     0.000000     0.000000    \n",
              "ENSMUSG00000021111 9.111136     ⋯ 8.748193     8.233620     7.562242    \n",
              "ENSMUSG00000023279 4.247928     ⋯ 3.459432     3.807355     3.169925    \n",
              "ENSMUSG00000044172 0.000000     ⋯ 0.000000     0.000000     0.000000    \n",
              "ENSMUSG00000041040 3.459432     ⋯ 4.954196     5.357552     3.906891    \n",
              "ENSMUSG00000046500 0.000000     ⋯ 0.000000     0.000000     0.000000    \n",
              "ENSMUSG00000084569 0.000000     ⋯ 0.000000     0.000000     0.000000    \n",
              "ENSMUSG00000037300 2.807355     ⋯ 4.643856     4.857981     3.000000    \n",
              "ENSMUSG00000022105 3.584963     ⋯ 4.321928     3.321928     2.584963    \n",
              "ENSMUSG00000096917 1.000000     ⋯ 3.906891     1.000000     1.000000    \n",
              "⋮                  ⋮            ⋱ ⋮            ⋮            ⋮           \n",
              "ENSMUSG00000095500 0.000000     ⋯ 0.000000     1.000000     0.000000    \n",
              "ENSMUSG00000029817 6.643856     ⋯ 7.044394     6.266787     6.209453    \n",
              "ENSMUSG00000029213 4.754888     ⋯ 2.321928     3.807355     4.169925    \n",
              "ENSMUSG00000021640 0.000000     ⋯ 1.000000     0.000000     0.000000    \n",
              "ENSMUSG00000021639 6.794416     ⋯ 6.321928     6.965784     4.857981    \n",
              "ENSMUSG00000024854 2.807355     ⋯ 0.000000     0.000000     0.000000    \n",
              "ENSMUSG00000022426 2.321928     ⋯ 3.807355     3.459432     3.169925    \n",
              "ENSMUSG00000084816 1.000000     ⋯ 2.000000     0.000000     2.321928    \n",
              "ENSMUSG00000052852 5.357552     ⋯ 5.491853     7.022368     7.599913    \n",
              "ENSMUSG00000024410 6.108524     ⋯ 6.714246     6.754888     6.285402    \n",
              "ENSMUSG00000026304 2.584963     ⋯ 0.000000     0.000000     0.000000    \n",
              "ENSMUSG00000085770 0.000000     ⋯ 0.000000     0.000000     0.000000    \n",
              "ENSMUSG00000055320 4.954196     ⋯ 3.459432     0.000000     3.000000    \n",
              "ENSMUSG00000062933 8.459432     ⋯ 7.622052     7.894818     7.339850    \n",
              "ENSMUSG00000021820 4.392317     ⋯ 5.392317     5.357552     4.169925    \n",
              "ENSMUSG00000073802 0.000000     ⋯ 1.584963     2.321928     0.000000    \n",
              "ENSMUSG00000025967 8.139551     ⋯ 8.826548     8.867279     7.285402    \n",
              "ENSMUSG00000025950 5.906891     ⋯ 5.285402     5.247928     5.087463    \n",
              "ENSMUSG00000023150 7.607330     ⋯ 6.539159     6.930737     7.321928    \n",
              "ENSMUSG00000044176 1.584963     ⋯ 0.000000     0.000000     0.000000    \n",
              "ENSMUSG00000030802 5.209453     ⋯ 3.459432     5.087463     5.357552    \n",
              "ENSMUSG00000030413 3.584963     ⋯ 0.000000     2.321928     3.584963    \n",
              "ENSMUSG00000001707 8.179909     ⋯ 6.643856     7.409391     7.011227    \n",
              "ENSMUSG00000007872 2.807355     ⋯ 5.087463     7.219169     5.247928    \n",
              "ENSMUSG00000032463 3.906891     ⋯ 4.000000     4.754888     3.584963    \n",
              "ENSMUSG00000092515 0.000000     ⋯ 0.000000     0.000000     0.000000    \n",
              "ENSMUSG00000085493 0.000000     ⋯ 0.000000     0.000000     0.000000    \n",
              "ENSMUSG00000053964 0.000000     ⋯ 0.000000     0.000000     0.000000    \n",
              "ENSMUSG00000054622 0.000000     ⋯ 0.000000     0.000000     0.000000    \n",
              "ENSMUSG00000063696 9.821774     ⋯ 7.507795     7.761551     8.832890    \n",
              "                   EM_4cell_6_B EM_4cell_6_C EM_4cell_6_D ME_4cell_6_A\n",
              "ENSMUSG00000038128 0.000000     0.000000      0.000000    0.000000    \n",
              "ENSMUSG00000031422 5.857981     7.303781      8.584963    8.396605    \n",
              "ENSMUSG00000083588 0.000000     0.000000      0.000000    1.000000    \n",
              "ENSMUSG00000020495 4.169925     5.321928      4.321928    4.643856    \n",
              "ENSMUSG00000029438 5.491853     5.781360      5.906891    5.614710    \n",
              "ENSMUSG00000091195 0.000000     0.000000      0.000000    0.000000    \n",
              "ENSMUSG00000073559 1.000000     2.584963      3.000000    3.807355    \n",
              "ENSMUSG00000054252 2.321928     2.321928      3.700440    0.000000    \n",
              "ENSMUSG00000099498 1.000000     0.000000      1.000000    0.000000    \n",
              "ENSMUSG00000032103 0.000000     0.000000      0.000000    0.000000    \n",
              "ENSMUSG00000055385 1.584963     0.000000      0.000000    1.584963    \n",
              "ENSMUSG00000003269 6.700440     7.266787      7.569856    6.930737    \n",
              "ENSMUSG00000096701 0.000000     0.000000      0.000000    0.000000    \n",
              "ENSMUSG00000070637 0.000000     0.000000      0.000000    0.000000    \n",
              "ENSMUSG00000072893 0.000000     1.068300      1.000000    1.000000    \n",
              "ENSMUSG00000030200 6.584963     6.149747      5.554589    7.622052    \n",
              "ENSMUSG00000024386 0.000000     1.000000      0.000000    0.000000    \n",
              "ENSMUSG00000059981 2.321928     3.169925      2.807355    4.523562    \n",
              "ENSMUSG00000084383 0.000000     1.584963      2.807355    2.584963    \n",
              "ENSMUSG00000069910 6.392317     6.832890      7.383704    6.942515    \n",
              "ENSMUSG00000035692 0.000000     1.584963      0.000000    0.000000    \n",
              "ENSMUSG00000021111 8.434628     9.047124     10.060696    9.696968    \n",
              "ENSMUSG00000023279 3.700440     4.459432      5.727920    1.000000    \n",
              "ENSMUSG00000044172 0.000000     0.000000      0.000000    0.000000    \n",
              "ENSMUSG00000041040 3.906891     5.044394      5.930737    6.303781    \n",
              "ENSMUSG00000046500 0.000000     0.000000      0.000000    0.000000    \n",
              "ENSMUSG00000084569 0.000000     0.000000      0.000000    0.000000    \n",
              "ENSMUSG00000037300 1.000000     3.000000      4.000000    5.000000    \n",
              "ENSMUSG00000022105 3.321928     5.491853      6.066089    6.000000    \n",
              "ENSMUSG00000096917 2.321928     3.169925      3.321928    3.000000    \n",
              "⋮                  ⋮            ⋮            ⋮            ⋮           \n",
              "ENSMUSG00000095500 0.000000     1.000000     0.000000     1.584963    \n",
              "ENSMUSG00000029817 5.977280     7.584963     8.290019     8.784635    \n",
              "ENSMUSG00000029213 4.169925     5.700440     5.727920     5.807355    \n",
              "ENSMUSG00000021640 0.000000     0.000000     0.000000     0.000000    \n",
              "ENSMUSG00000021639 5.554589     7.108524     7.228819     7.434628    \n",
              "ENSMUSG00000024854 0.000000     0.000000     2.584963     0.000000    \n",
              "ENSMUSG00000022426 0.000000     4.584963     1.584963     4.087463    \n",
              "ENSMUSG00000084816 1.584963     2.000000     3.321928     0.000000    \n",
              "ENSMUSG00000052852 6.754888     6.906891     7.189825     7.658211    \n",
              "ENSMUSG00000024410 7.044394     5.554589     6.189825     6.599913    \n",
              "ENSMUSG00000026304 0.000000     0.000000     0.000000     0.000000    \n",
              "ENSMUSG00000085770 0.000000     0.000000     0.000000     0.000000    \n",
              "ENSMUSG00000055320 2.321928     0.000000     5.044394     5.169925    \n",
              "ENSMUSG00000062933 7.169925     7.592457     7.348728     7.965784    \n",
              "ENSMUSG00000021820 3.807355     4.584963     4.584963     5.857981    \n",
              "ENSMUSG00000073802 0.000000     0.000000     0.000000     0.000000    \n",
              "ENSMUSG00000025967 7.303781     7.562242     8.562242     8.204571    \n",
              "ENSMUSG00000025950 5.807355     6.129283     5.727920     5.930737    \n",
              "ENSMUSG00000023150 7.569856     8.357552     9.475733     8.519636    \n",
              "ENSMUSG00000044176 0.000000     0.000000     1.000000     0.000000    \n",
              "ENSMUSG00000030802 4.584963     5.247928     2.321928     5.392317    \n",
              "ENSMUSG00000030413 3.000000     3.000000     3.321928     4.169925    \n",
              "ENSMUSG00000001707 6.643856     7.599913     8.169925     8.303781    \n",
              "ENSMUSG00000007872 5.643856     3.584963     4.906891     7.321928    \n",
              "ENSMUSG00000032463 4.954196     2.807355     4.523562     4.584963    \n",
              "ENSMUSG00000092515 0.000000     0.000000     0.000000     0.000000    \n",
              "ENSMUSG00000085493 0.000000     1.000000     0.000000     1.000000    \n",
              "ENSMUSG00000053964 0.000000     0.000000     0.000000     2.321928    \n",
              "ENSMUSG00000054622 0.000000     0.000000     0.000000     0.000000    \n",
              "ENSMUSG00000063696 8.247928     9.074141     9.008429     9.228819    \n",
              "                   ME_4cell_6_B ME_4cell_6_C ME_4cell_6_D\n",
              "ENSMUSG00000038128  0.000000    0.000000     0.000000    \n",
              "ENSMUSG00000031422  8.000000    7.159871     6.228819    \n",
              "ENSMUSG00000083588  0.000000    0.000000     0.000000    \n",
              "ENSMUSG00000020495  4.321928    4.754888     5.491853    \n",
              "ENSMUSG00000029438  6.672425    6.375039     4.906891    \n",
              "ENSMUSG00000091195  0.000000    0.000000     0.000000    \n",
              "ENSMUSG00000073559  3.321928    3.169925     3.584963    \n",
              "ENSMUSG00000054252  3.169925    2.321928     2.807355    \n",
              "ENSMUSG00000099498  0.000000    1.000000     0.000000    \n",
              "ENSMUSG00000032103  0.000000    0.000000     0.000000    \n",
              "ENSMUSG00000055385  2.321928    1.000000     0.000000    \n",
              "ENSMUSG00000003269  7.912889    8.129283     7.894818    \n",
              "ENSMUSG00000096701  0.000000    0.000000     0.000000    \n",
              "ENSMUSG00000070637  0.000000    0.000000     0.000000    \n",
              "ENSMUSG00000072893  2.321928    1.716303     1.876331    \n",
              "ENSMUSG00000030200  7.754888    7.400879     7.459432    \n",
              "ENSMUSG00000024386  0.000000    1.000000     0.000000    \n",
              "ENSMUSG00000059981  4.807355    5.087463     4.000000    \n",
              "ENSMUSG00000084383  1.000000    2.000000     1.000000    \n",
              "ENSMUSG00000069910  7.294621    6.894818     6.108524    \n",
              "ENSMUSG00000035692  0.000000    1.000000     0.000000    \n",
              "ENSMUSG00000021111 10.782179    9.209453     8.994353    \n",
              "ENSMUSG00000023279  1.584963    3.169925     3.807355    \n",
              "ENSMUSG00000044172  2.584963    2.321928     0.000000    \n",
              "ENSMUSG00000041040  3.584963    5.087463     4.584963    \n",
              "ENSMUSG00000046500  0.000000    0.000000     0.000000    \n",
              "ENSMUSG00000084569  1.000000    0.000000     0.000000    \n",
              "ENSMUSG00000037300  3.000000    3.000000     4.523562    \n",
              "ENSMUSG00000022105  5.857981    3.906891     5.672425    \n",
              "ENSMUSG00000096917  4.087463    3.459432     3.000000    \n",
              "⋮                  ⋮            ⋮            ⋮           \n",
              "ENSMUSG00000095500 0.000000     1.584963     2.000000    \n",
              "ENSMUSG00000029817 8.247928     6.491853     6.442943    \n",
              "ENSMUSG00000029213 5.459432     2.807355     1.584963    \n",
              "ENSMUSG00000021640 0.000000     0.000000     0.000000    \n",
              "ENSMUSG00000021639 7.055282     6.870365     6.741467    \n",
              "ENSMUSG00000024854 2.000000     0.000000     0.000000    \n",
              "ENSMUSG00000022426 4.523562     4.000000     2.321928    \n",
              "ENSMUSG00000084816 1.000000     1.584963     0.000000    \n",
              "ENSMUSG00000052852 8.584963     6.022368     6.614710    \n",
              "ENSMUSG00000024410 7.375039     6.475733     7.912889    \n",
              "ENSMUSG00000026304 0.000000     0.000000     0.000000    \n",
              "ENSMUSG00000085770 0.000000     0.000000     3.000000    \n",
              "ENSMUSG00000055320 1.000000     2.321928     3.169925    \n",
              "ENSMUSG00000062933 8.511753     8.214319     8.189825    \n",
              "ENSMUSG00000021820 4.700440     4.087463     5.129283    \n",
              "ENSMUSG00000073802 2.000000     0.000000     0.000000    \n",
              "ENSMUSG00000025967 8.353147     8.189825     8.596190    \n",
              "ENSMUSG00000025950 4.643856     6.599913     4.906891    \n",
              "ENSMUSG00000023150 8.845490     7.748193     7.442943    \n",
              "ENSMUSG00000044176 1.000000     0.000000     1.584963    \n",
              "ENSMUSG00000030802 4.247928     5.129283     5.727920    \n",
              "ENSMUSG00000030413 3.169925     4.247928     5.044394    \n",
              "ENSMUSG00000001707 8.724514     7.451211     6.686501    \n",
              "ENSMUSG00000007872 7.087463     6.409391     5.044394    \n",
              "ENSMUSG00000032463 5.930737     4.857981     4.169925    \n",
              "ENSMUSG00000092515 0.000000     0.000000     0.000000    \n",
              "ENSMUSG00000085493 0.000000     0.000000     0.000000    \n",
              "ENSMUSG00000053964 0.000000     1.584963     0.000000    \n",
              "ENSMUSG00000054622 0.000000     0.000000     1.000000    \n",
              "ENSMUSG00000063696 9.675957     9.266787     9.479780    "
            ]
          },
          "metadata": {}
        }
      ]
    },
    {
      "cell_type": "code",
      "source": [
        ""
      ],
      "metadata": {
        "id": "63qCw6nwMO4v"
      },
      "execution_count": null,
      "outputs": []
    }
  ]
}