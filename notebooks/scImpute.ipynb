{
  "nbformat": 4,
  "nbformat_minor": 0,
  "metadata": {
    "colab": {
      "name": "scImpute.ipynb",
      "provenance": [],
      "authorship_tag": "ABX9TyOjdbIt8V0g0xByvdjdmmZy",
      "include_colab_link": true
    },
    "kernelspec": {
      "name": "ir",
      "display_name": "R"
    },
    "language_info": {
      "name": "R"
    }
  },
  "cells": [
    {
      "cell_type": "markdown",
      "metadata": {
        "id": "view-in-github",
        "colab_type": "text"
      },
      "source": [
        "<a href=\"https://colab.research.google.com/github/inoue0426/scRNA-Data-Imputation-comparison/blob/main/notebooks/scImpute.ipynb\" target=\"_parent\"><img src=\"https://colab.research.google.com/assets/colab-badge.svg\" alt=\"Open In Colab\"/></a>"
      ]
    },
    {
      "cell_type": "code",
      "execution_count": null,
      "metadata": {
        "colab": {
          "base_uri": "https://localhost:8080/"
        },
        "id": "MJOxeb6xqvCx",
        "outputId": "31167f92-ab47-4687-b2e7-16bdf531f491"
      },
      "outputs": [
        {
          "output_type": "stream",
          "name": "stderr",
          "text": [
            "Installing package into ‘/usr/local/lib/R/site-library’\n",
            "(as ‘lib’ is unspecified)\n",
            "\n",
            "Skipping install of 'scImpute' from a github remote, the SHA1 (78556ee2) has not changed since last install.\n",
            "  Use `force = TRUE` to force installation\n",
            "\n"
          ]
        }
      ],
      "source": [
        "install.packages(\"devtools\")\n",
        "library(devtools)\n",
        "\n",
        "install_github(\"Vivianstats/scImpute\")"
      ]
    },
    {
      "cell_type": "code",
      "source": [
        "url <- 'https://www.ncbi.nlm.nih.gov/geo/download/?acc=GSE57249&format=file&file=GSE57249%5Ffpkm%2Etxt%2Egz'\n",
        "tmp <- tempfile()\n",
        "##\n",
        "download.file(url,tmp)\n",
        "##\n",
        "data <- read.csv(\n",
        "  gzfile(tmp),\n",
        "  sep=\"\\t\",\n",
        "  header=TRUE,\n",
        "  stringsAsFactors=FALSE)"
      ],
      "metadata": {
        "id": "CkOQTvQ_hNNC"
      },
      "execution_count": null,
      "outputs": []
    },
    {
      "cell_type": "code",
      "source": [
        "head(data)"
      ],
      "metadata": {
        "colab": {
          "base_uri": "https://localhost:8080/",
          "height": 306
        },
        "id": "5ikayDZPtAhH",
        "outputId": "3404f2b5-d6ec-4c0d-fa69-2e368f0dcbaf"
      },
      "execution_count": null,
      "outputs": [
        {
          "output_type": "display_data",
          "data": {
            "text/html": [
              "<table class=\"dataframe\">\n",
              "<caption>A data.frame: 6 × 57</caption>\n",
              "<thead>\n",
              "\t<tr><th></th><th scope=col>ID</th><th scope=col>GSM1377859</th><th scope=col>GSM1377860</th><th scope=col>GSM1377861</th><th scope=col>GSM1377862</th><th scope=col>GSM1377863</th><th scope=col>GSM1377864</th><th scope=col>GSM1377865</th><th scope=col>GSM1377866</th><th scope=col>GSM1377867</th><th scope=col>⋯</th><th scope=col>GSM1377905</th><th scope=col>GSM1377906</th><th scope=col>GSM1377907</th><th scope=col>GSM1377908</th><th scope=col>GSM1377909</th><th scope=col>GSM1377910</th><th scope=col>GSM1377911</th><th scope=col>GSM1377912</th><th scope=col>GSM1377913</th><th scope=col>GSM1377914</th></tr>\n",
              "\t<tr><th></th><th scope=col>&lt;chr&gt;</th><th scope=col>&lt;dbl&gt;</th><th scope=col>&lt;dbl&gt;</th><th scope=col>&lt;dbl&gt;</th><th scope=col>&lt;dbl&gt;</th><th scope=col>&lt;dbl&gt;</th><th scope=col>&lt;dbl&gt;</th><th scope=col>&lt;dbl&gt;</th><th scope=col>&lt;dbl&gt;</th><th scope=col>&lt;dbl&gt;</th><th scope=col>⋯</th><th scope=col>&lt;dbl&gt;</th><th scope=col>&lt;dbl&gt;</th><th scope=col>&lt;dbl&gt;</th><th scope=col>&lt;dbl&gt;</th><th scope=col>&lt;dbl&gt;</th><th scope=col>&lt;dbl&gt;</th><th scope=col>&lt;dbl&gt;</th><th scope=col>&lt;dbl&gt;</th><th scope=col>&lt;dbl&gt;</th><th scope=col>&lt;dbl&gt;</th></tr>\n",
              "</thead>\n",
              "<tbody>\n",
              "\t<tr><th scope=row>1</th><td>ENSMUSG00000000001</td><td>25.8078</td><td>36.75610</td><td> 8.87692</td><td> 24.5712</td><td> 31.22550</td><td> 24.7722</td><td>40.745800</td><td> 38.41550</td><td> 43.4644</td><td>⋯</td><td> 28.04380</td><td> 5.55538</td><td> 16.9205</td><td>14.552100</td><td>51.47380</td><td>  1.285560</td><td>40.56320</td><td>0.00000</td><td>0.084052</td><td>0.000000</td></tr>\n",
              "\t<tr><th scope=row>2</th><td>ENSMUSG00000000028</td><td>93.4291</td><td>92.11650</td><td>94.59080</td><td>107.0380</td><td>121.44900</td><td>139.3230</td><td> 0.960904</td><td>162.72700</td><td>121.1760</td><td>⋯</td><td>112.88000</td><td>27.00820</td><td>105.0870</td><td>70.179700</td><td>41.61460</td><td>131.129000</td><td>56.93390</td><td>8.76009</td><td>3.831900</td><td>2.785230</td></tr>\n",
              "\t<tr><th scope=row>3</th><td>ENSMUSG00000000031</td><td> 0.0000</td><td> 0.00000</td><td> 0.00000</td><td>  0.0000</td><td>  0.00000</td><td>  0.0000</td><td> 0.000000</td><td>  0.00000</td><td>  0.0000</td><td>⋯</td><td>  0.00000</td><td> 0.00000</td><td>  0.0000</td><td> 0.261558</td><td> 0.00000</td><td>  0.000000</td><td> 0.00000</td><td>0.00000</td><td>0.000000</td><td>0.000000</td></tr>\n",
              "\t<tr><th scope=row>4</th><td>ENSMUSG00000000037</td><td>37.9544</td><td>22.43050</td><td>23.34200</td><td> 42.2728</td><td> 23.85790</td><td> 32.4989</td><td>15.721000</td><td> 37.73550</td><td> 48.2360</td><td>⋯</td><td>  1.08452</td><td> 0.00000</td><td>  0.0000</td><td> 0.000000</td><td> 4.74386</td><td>  0.000000</td><td> 2.09974</td><td>0.00000</td><td>0.000000</td><td>0.000000</td></tr>\n",
              "\t<tr><th scope=row>5</th><td>ENSMUSG00000000049</td><td> 0.0000</td><td> 0.00000</td><td> 0.00000</td><td>  0.0000</td><td>  0.00000</td><td>  0.0000</td><td> 0.000000</td><td>  1.19912</td><td>  0.0000</td><td>⋯</td><td>  0.00000</td><td> 0.00000</td><td>  0.0000</td><td> 0.000000</td><td> 0.00000</td><td>  0.000000</td><td> 0.00000</td><td>0.00000</td><td>0.000000</td><td>0.000000</td></tr>\n",
              "\t<tr><th scope=row>6</th><td>ENSMUSG00000000056</td><td>11.7348</td><td> 5.61334</td><td> 7.52622</td><td>  6.2115</td><td>  6.20216</td><td> 28.3024</td><td>39.470500</td><td> 37.35680</td><td> 11.8725</td><td>⋯</td><td>  0.00000</td><td> 0.00000</td><td>  0.0000</td><td> 0.000000</td><td> 3.39413</td><td>  0.035212</td><td> 9.44850</td><td>0.00000</td><td>0.000000</td><td>0.108556</td></tr>\n",
              "</tbody>\n",
              "</table>\n"
            ],
            "text/markdown": "\nA data.frame: 6 × 57\n\n| <!--/--> | ID &lt;chr&gt; | GSM1377859 &lt;dbl&gt; | GSM1377860 &lt;dbl&gt; | GSM1377861 &lt;dbl&gt; | GSM1377862 &lt;dbl&gt; | GSM1377863 &lt;dbl&gt; | GSM1377864 &lt;dbl&gt; | GSM1377865 &lt;dbl&gt; | GSM1377866 &lt;dbl&gt; | GSM1377867 &lt;dbl&gt; | ⋯ ⋯ | GSM1377905 &lt;dbl&gt; | GSM1377906 &lt;dbl&gt; | GSM1377907 &lt;dbl&gt; | GSM1377908 &lt;dbl&gt; | GSM1377909 &lt;dbl&gt; | GSM1377910 &lt;dbl&gt; | GSM1377911 &lt;dbl&gt; | GSM1377912 &lt;dbl&gt; | GSM1377913 &lt;dbl&gt; | GSM1377914 &lt;dbl&gt; |\n|---|---|---|---|---|---|---|---|---|---|---|---|---|---|---|---|---|---|---|---|---|---|\n| 1 | ENSMUSG00000000001 | 25.8078 | 36.75610 |  8.87692 |  24.5712 |  31.22550 |  24.7722 | 40.745800 |  38.41550 |  43.4644 | ⋯ |  28.04380 |  5.55538 |  16.9205 | 14.552100 | 51.47380 |   1.285560 | 40.56320 | 0.00000 | 0.084052 | 0.000000 |\n| 2 | ENSMUSG00000000028 | 93.4291 | 92.11650 | 94.59080 | 107.0380 | 121.44900 | 139.3230 |  0.960904 | 162.72700 | 121.1760 | ⋯ | 112.88000 | 27.00820 | 105.0870 | 70.179700 | 41.61460 | 131.129000 | 56.93390 | 8.76009 | 3.831900 | 2.785230 |\n| 3 | ENSMUSG00000000031 |  0.0000 |  0.00000 |  0.00000 |   0.0000 |   0.00000 |   0.0000 |  0.000000 |   0.00000 |   0.0000 | ⋯ |   0.00000 |  0.00000 |   0.0000 |  0.261558 |  0.00000 |   0.000000 |  0.00000 | 0.00000 | 0.000000 | 0.000000 |\n| 4 | ENSMUSG00000000037 | 37.9544 | 22.43050 | 23.34200 |  42.2728 |  23.85790 |  32.4989 | 15.721000 |  37.73550 |  48.2360 | ⋯ |   1.08452 |  0.00000 |   0.0000 |  0.000000 |  4.74386 |   0.000000 |  2.09974 | 0.00000 | 0.000000 | 0.000000 |\n| 5 | ENSMUSG00000000049 |  0.0000 |  0.00000 |  0.00000 |   0.0000 |   0.00000 |   0.0000 |  0.000000 |   1.19912 |   0.0000 | ⋯ |   0.00000 |  0.00000 |   0.0000 |  0.000000 |  0.00000 |   0.000000 |  0.00000 | 0.00000 | 0.000000 | 0.000000 |\n| 6 | ENSMUSG00000000056 | 11.7348 |  5.61334 |  7.52622 |   6.2115 |   6.20216 |  28.3024 | 39.470500 |  37.35680 |  11.8725 | ⋯ |   0.00000 |  0.00000 |   0.0000 |  0.000000 |  3.39413 |   0.035212 |  9.44850 | 0.00000 | 0.000000 | 0.108556 |\n\n",
            "text/latex": "A data.frame: 6 × 57\n\\begin{tabular}{r|lllllllllllllllllllll}\n  & ID & GSM1377859 & GSM1377860 & GSM1377861 & GSM1377862 & GSM1377863 & GSM1377864 & GSM1377865 & GSM1377866 & GSM1377867 & ⋯ & GSM1377905 & GSM1377906 & GSM1377907 & GSM1377908 & GSM1377909 & GSM1377910 & GSM1377911 & GSM1377912 & GSM1377913 & GSM1377914\\\\\n  & <chr> & <dbl> & <dbl> & <dbl> & <dbl> & <dbl> & <dbl> & <dbl> & <dbl> & <dbl> & ⋯ & <dbl> & <dbl> & <dbl> & <dbl> & <dbl> & <dbl> & <dbl> & <dbl> & <dbl> & <dbl>\\\\\n\\hline\n\t1 & ENSMUSG00000000001 & 25.8078 & 36.75610 &  8.87692 &  24.5712 &  31.22550 &  24.7722 & 40.745800 &  38.41550 &  43.4644 & ⋯ &  28.04380 &  5.55538 &  16.9205 & 14.552100 & 51.47380 &   1.285560 & 40.56320 & 0.00000 & 0.084052 & 0.000000\\\\\n\t2 & ENSMUSG00000000028 & 93.4291 & 92.11650 & 94.59080 & 107.0380 & 121.44900 & 139.3230 &  0.960904 & 162.72700 & 121.1760 & ⋯ & 112.88000 & 27.00820 & 105.0870 & 70.179700 & 41.61460 & 131.129000 & 56.93390 & 8.76009 & 3.831900 & 2.785230\\\\\n\t3 & ENSMUSG00000000031 &  0.0000 &  0.00000 &  0.00000 &   0.0000 &   0.00000 &   0.0000 &  0.000000 &   0.00000 &   0.0000 & ⋯ &   0.00000 &  0.00000 &   0.0000 &  0.261558 &  0.00000 &   0.000000 &  0.00000 & 0.00000 & 0.000000 & 0.000000\\\\\n\t4 & ENSMUSG00000000037 & 37.9544 & 22.43050 & 23.34200 &  42.2728 &  23.85790 &  32.4989 & 15.721000 &  37.73550 &  48.2360 & ⋯ &   1.08452 &  0.00000 &   0.0000 &  0.000000 &  4.74386 &   0.000000 &  2.09974 & 0.00000 & 0.000000 & 0.000000\\\\\n\t5 & ENSMUSG00000000049 &  0.0000 &  0.00000 &  0.00000 &   0.0000 &   0.00000 &   0.0000 &  0.000000 &   1.19912 &   0.0000 & ⋯ &   0.00000 &  0.00000 &   0.0000 &  0.000000 &  0.00000 &   0.000000 &  0.00000 & 0.00000 & 0.000000 & 0.000000\\\\\n\t6 & ENSMUSG00000000056 & 11.7348 &  5.61334 &  7.52622 &   6.2115 &   6.20216 &  28.3024 & 39.470500 &  37.35680 &  11.8725 & ⋯ &   0.00000 &  0.00000 &   0.0000 &  0.000000 &  3.39413 &   0.035212 &  9.44850 & 0.00000 & 0.000000 & 0.108556\\\\\n\\end{tabular}\n",
            "text/plain": [
              "  ID                 GSM1377859 GSM1377860 GSM1377861 GSM1377862 GSM1377863\n",
              "1 ENSMUSG00000000001 25.8078    36.75610    8.87692    24.5712    31.22550 \n",
              "2 ENSMUSG00000000028 93.4291    92.11650   94.59080   107.0380   121.44900 \n",
              "3 ENSMUSG00000000031  0.0000     0.00000    0.00000     0.0000     0.00000 \n",
              "4 ENSMUSG00000000037 37.9544    22.43050   23.34200    42.2728    23.85790 \n",
              "5 ENSMUSG00000000049  0.0000     0.00000    0.00000     0.0000     0.00000 \n",
              "6 ENSMUSG00000000056 11.7348     5.61334    7.52622     6.2115     6.20216 \n",
              "  GSM1377864 GSM1377865 GSM1377866 GSM1377867 ⋯ GSM1377905 GSM1377906\n",
              "1  24.7722   40.745800   38.41550   43.4644   ⋯  28.04380   5.55538  \n",
              "2 139.3230    0.960904  162.72700  121.1760   ⋯ 112.88000  27.00820  \n",
              "3   0.0000    0.000000    0.00000    0.0000   ⋯   0.00000   0.00000  \n",
              "4  32.4989   15.721000   37.73550   48.2360   ⋯   1.08452   0.00000  \n",
              "5   0.0000    0.000000    1.19912    0.0000   ⋯   0.00000   0.00000  \n",
              "6  28.3024   39.470500   37.35680   11.8725   ⋯   0.00000   0.00000  \n",
              "  GSM1377907 GSM1377908 GSM1377909 GSM1377910 GSM1377911 GSM1377912 GSM1377913\n",
              "1  16.9205   14.552100  51.47380     1.285560 40.56320   0.00000    0.084052  \n",
              "2 105.0870   70.179700  41.61460   131.129000 56.93390   8.76009    3.831900  \n",
              "3   0.0000    0.261558   0.00000     0.000000  0.00000   0.00000    0.000000  \n",
              "4   0.0000    0.000000   4.74386     0.000000  2.09974   0.00000    0.000000  \n",
              "5   0.0000    0.000000   0.00000     0.000000  0.00000   0.00000    0.000000  \n",
              "6   0.0000    0.000000   3.39413     0.035212  9.44850   0.00000    0.000000  \n",
              "  GSM1377914\n",
              "1 0.000000  \n",
              "2 2.785230  \n",
              "3 0.000000  \n",
              "4 0.000000  \n",
              "5 0.000000  \n",
              "6 0.108556  "
            ]
          },
          "metadata": {}
        }
      ]
    },
    {
      "cell_type": "code",
      "source": [
        "data = subset(data, select = -c(ID))\n",
        "head(data)"
      ],
      "metadata": {
        "colab": {
          "base_uri": "https://localhost:8080/",
          "height": 306
        },
        "id": "RvKMWBRsugIP",
        "outputId": "c72895f5-6237-4961-9b5f-ce7984220370"
      },
      "execution_count": null,
      "outputs": [
        {
          "output_type": "display_data",
          "data": {
            "text/html": [
              "<table class=\"dataframe\">\n",
              "<caption>A data.frame: 6 × 56</caption>\n",
              "<thead>\n",
              "\t<tr><th></th><th scope=col>GSM1377859</th><th scope=col>GSM1377860</th><th scope=col>GSM1377861</th><th scope=col>GSM1377862</th><th scope=col>GSM1377863</th><th scope=col>GSM1377864</th><th scope=col>GSM1377865</th><th scope=col>GSM1377866</th><th scope=col>GSM1377867</th><th scope=col>GSM1377868</th><th scope=col>⋯</th><th scope=col>GSM1377905</th><th scope=col>GSM1377906</th><th scope=col>GSM1377907</th><th scope=col>GSM1377908</th><th scope=col>GSM1377909</th><th scope=col>GSM1377910</th><th scope=col>GSM1377911</th><th scope=col>GSM1377912</th><th scope=col>GSM1377913</th><th scope=col>GSM1377914</th></tr>\n",
              "\t<tr><th></th><th scope=col>&lt;dbl&gt;</th><th scope=col>&lt;dbl&gt;</th><th scope=col>&lt;dbl&gt;</th><th scope=col>&lt;dbl&gt;</th><th scope=col>&lt;dbl&gt;</th><th scope=col>&lt;dbl&gt;</th><th scope=col>&lt;dbl&gt;</th><th scope=col>&lt;dbl&gt;</th><th scope=col>&lt;dbl&gt;</th><th scope=col>&lt;dbl&gt;</th><th scope=col>⋯</th><th scope=col>&lt;dbl&gt;</th><th scope=col>&lt;dbl&gt;</th><th scope=col>&lt;dbl&gt;</th><th scope=col>&lt;dbl&gt;</th><th scope=col>&lt;dbl&gt;</th><th scope=col>&lt;dbl&gt;</th><th scope=col>&lt;dbl&gt;</th><th scope=col>&lt;dbl&gt;</th><th scope=col>&lt;dbl&gt;</th><th scope=col>&lt;dbl&gt;</th></tr>\n",
              "</thead>\n",
              "<tbody>\n",
              "\t<tr><th scope=row>1</th><td>25.8078</td><td>36.75610</td><td> 8.87692</td><td> 24.5712</td><td> 31.22550</td><td> 24.7722</td><td>40.745800</td><td> 38.41550</td><td> 43.4644</td><td> 32.3039</td><td>⋯</td><td> 28.04380</td><td> 5.55538</td><td> 16.9205</td><td>14.552100</td><td>51.47380</td><td>  1.285560</td><td>40.56320</td><td>0.00000</td><td>0.084052</td><td>0.000000</td></tr>\n",
              "\t<tr><th scope=row>2</th><td>93.4291</td><td>92.11650</td><td>94.59080</td><td>107.0380</td><td>121.44900</td><td>139.3230</td><td> 0.960904</td><td>162.72700</td><td>121.1760</td><td>132.2440</td><td>⋯</td><td>112.88000</td><td>27.00820</td><td>105.0870</td><td>70.179700</td><td>41.61460</td><td>131.129000</td><td>56.93390</td><td>8.76009</td><td>3.831900</td><td>2.785230</td></tr>\n",
              "\t<tr><th scope=row>3</th><td> 0.0000</td><td> 0.00000</td><td> 0.00000</td><td>  0.0000</td><td>  0.00000</td><td>  0.0000</td><td> 0.000000</td><td>  0.00000</td><td>  0.0000</td><td>  0.0000</td><td>⋯</td><td>  0.00000</td><td> 0.00000</td><td>  0.0000</td><td> 0.261558</td><td> 0.00000</td><td>  0.000000</td><td> 0.00000</td><td>0.00000</td><td>0.000000</td><td>0.000000</td></tr>\n",
              "\t<tr><th scope=row>4</th><td>37.9544</td><td>22.43050</td><td>23.34200</td><td> 42.2728</td><td> 23.85790</td><td> 32.4989</td><td>15.721000</td><td> 37.73550</td><td> 48.2360</td><td> 34.3155</td><td>⋯</td><td>  1.08452</td><td> 0.00000</td><td>  0.0000</td><td> 0.000000</td><td> 4.74386</td><td>  0.000000</td><td> 2.09974</td><td>0.00000</td><td>0.000000</td><td>0.000000</td></tr>\n",
              "\t<tr><th scope=row>5</th><td> 0.0000</td><td> 0.00000</td><td> 0.00000</td><td>  0.0000</td><td>  0.00000</td><td>  0.0000</td><td> 0.000000</td><td>  1.19912</td><td>  0.0000</td><td>  0.0000</td><td>⋯</td><td>  0.00000</td><td> 0.00000</td><td>  0.0000</td><td> 0.000000</td><td> 0.00000</td><td>  0.000000</td><td> 0.00000</td><td>0.00000</td><td>0.000000</td><td>0.000000</td></tr>\n",
              "\t<tr><th scope=row>6</th><td>11.7348</td><td> 5.61334</td><td> 7.52622</td><td>  6.2115</td><td>  6.20216</td><td> 28.3024</td><td>39.470500</td><td> 37.35680</td><td> 11.8725</td><td> 27.3852</td><td>⋯</td><td>  0.00000</td><td> 0.00000</td><td>  0.0000</td><td> 0.000000</td><td> 3.39413</td><td>  0.035212</td><td> 9.44850</td><td>0.00000</td><td>0.000000</td><td>0.108556</td></tr>\n",
              "</tbody>\n",
              "</table>\n"
            ],
            "text/markdown": "\nA data.frame: 6 × 56\n\n| <!--/--> | GSM1377859 &lt;dbl&gt; | GSM1377860 &lt;dbl&gt; | GSM1377861 &lt;dbl&gt; | GSM1377862 &lt;dbl&gt; | GSM1377863 &lt;dbl&gt; | GSM1377864 &lt;dbl&gt; | GSM1377865 &lt;dbl&gt; | GSM1377866 &lt;dbl&gt; | GSM1377867 &lt;dbl&gt; | GSM1377868 &lt;dbl&gt; | ⋯ ⋯ | GSM1377905 &lt;dbl&gt; | GSM1377906 &lt;dbl&gt; | GSM1377907 &lt;dbl&gt; | GSM1377908 &lt;dbl&gt; | GSM1377909 &lt;dbl&gt; | GSM1377910 &lt;dbl&gt; | GSM1377911 &lt;dbl&gt; | GSM1377912 &lt;dbl&gt; | GSM1377913 &lt;dbl&gt; | GSM1377914 &lt;dbl&gt; |\n|---|---|---|---|---|---|---|---|---|---|---|---|---|---|---|---|---|---|---|---|---|---|\n| 1 | 25.8078 | 36.75610 |  8.87692 |  24.5712 |  31.22550 |  24.7722 | 40.745800 |  38.41550 |  43.4644 |  32.3039 | ⋯ |  28.04380 |  5.55538 |  16.9205 | 14.552100 | 51.47380 |   1.285560 | 40.56320 | 0.00000 | 0.084052 | 0.000000 |\n| 2 | 93.4291 | 92.11650 | 94.59080 | 107.0380 | 121.44900 | 139.3230 |  0.960904 | 162.72700 | 121.1760 | 132.2440 | ⋯ | 112.88000 | 27.00820 | 105.0870 | 70.179700 | 41.61460 | 131.129000 | 56.93390 | 8.76009 | 3.831900 | 2.785230 |\n| 3 |  0.0000 |  0.00000 |  0.00000 |   0.0000 |   0.00000 |   0.0000 |  0.000000 |   0.00000 |   0.0000 |   0.0000 | ⋯ |   0.00000 |  0.00000 |   0.0000 |  0.261558 |  0.00000 |   0.000000 |  0.00000 | 0.00000 | 0.000000 | 0.000000 |\n| 4 | 37.9544 | 22.43050 | 23.34200 |  42.2728 |  23.85790 |  32.4989 | 15.721000 |  37.73550 |  48.2360 |  34.3155 | ⋯ |   1.08452 |  0.00000 |   0.0000 |  0.000000 |  4.74386 |   0.000000 |  2.09974 | 0.00000 | 0.000000 | 0.000000 |\n| 5 |  0.0000 |  0.00000 |  0.00000 |   0.0000 |   0.00000 |   0.0000 |  0.000000 |   1.19912 |   0.0000 |   0.0000 | ⋯ |   0.00000 |  0.00000 |   0.0000 |  0.000000 |  0.00000 |   0.000000 |  0.00000 | 0.00000 | 0.000000 | 0.000000 |\n| 6 | 11.7348 |  5.61334 |  7.52622 |   6.2115 |   6.20216 |  28.3024 | 39.470500 |  37.35680 |  11.8725 |  27.3852 | ⋯ |   0.00000 |  0.00000 |   0.0000 |  0.000000 |  3.39413 |   0.035212 |  9.44850 | 0.00000 | 0.000000 | 0.108556 |\n\n",
            "text/latex": "A data.frame: 6 × 56\n\\begin{tabular}{r|lllllllllllllllllllll}\n  & GSM1377859 & GSM1377860 & GSM1377861 & GSM1377862 & GSM1377863 & GSM1377864 & GSM1377865 & GSM1377866 & GSM1377867 & GSM1377868 & ⋯ & GSM1377905 & GSM1377906 & GSM1377907 & GSM1377908 & GSM1377909 & GSM1377910 & GSM1377911 & GSM1377912 & GSM1377913 & GSM1377914\\\\\n  & <dbl> & <dbl> & <dbl> & <dbl> & <dbl> & <dbl> & <dbl> & <dbl> & <dbl> & <dbl> & ⋯ & <dbl> & <dbl> & <dbl> & <dbl> & <dbl> & <dbl> & <dbl> & <dbl> & <dbl> & <dbl>\\\\\n\\hline\n\t1 & 25.8078 & 36.75610 &  8.87692 &  24.5712 &  31.22550 &  24.7722 & 40.745800 &  38.41550 &  43.4644 &  32.3039 & ⋯ &  28.04380 &  5.55538 &  16.9205 & 14.552100 & 51.47380 &   1.285560 & 40.56320 & 0.00000 & 0.084052 & 0.000000\\\\\n\t2 & 93.4291 & 92.11650 & 94.59080 & 107.0380 & 121.44900 & 139.3230 &  0.960904 & 162.72700 & 121.1760 & 132.2440 & ⋯ & 112.88000 & 27.00820 & 105.0870 & 70.179700 & 41.61460 & 131.129000 & 56.93390 & 8.76009 & 3.831900 & 2.785230\\\\\n\t3 &  0.0000 &  0.00000 &  0.00000 &   0.0000 &   0.00000 &   0.0000 &  0.000000 &   0.00000 &   0.0000 &   0.0000 & ⋯ &   0.00000 &  0.00000 &   0.0000 &  0.261558 &  0.00000 &   0.000000 &  0.00000 & 0.00000 & 0.000000 & 0.000000\\\\\n\t4 & 37.9544 & 22.43050 & 23.34200 &  42.2728 &  23.85790 &  32.4989 & 15.721000 &  37.73550 &  48.2360 &  34.3155 & ⋯ &   1.08452 &  0.00000 &   0.0000 &  0.000000 &  4.74386 &   0.000000 &  2.09974 & 0.00000 & 0.000000 & 0.000000\\\\\n\t5 &  0.0000 &  0.00000 &  0.00000 &   0.0000 &   0.00000 &   0.0000 &  0.000000 &   1.19912 &   0.0000 &   0.0000 & ⋯ &   0.00000 &  0.00000 &   0.0000 &  0.000000 &  0.00000 &   0.000000 &  0.00000 & 0.00000 & 0.000000 & 0.000000\\\\\n\t6 & 11.7348 &  5.61334 &  7.52622 &   6.2115 &   6.20216 &  28.3024 & 39.470500 &  37.35680 &  11.8725 &  27.3852 & ⋯ &   0.00000 &  0.00000 &   0.0000 &  0.000000 &  3.39413 &   0.035212 &  9.44850 & 0.00000 & 0.000000 & 0.108556\\\\\n\\end{tabular}\n",
            "text/plain": [
              "  GSM1377859 GSM1377860 GSM1377861 GSM1377862 GSM1377863 GSM1377864 GSM1377865\n",
              "1 25.8078    36.75610    8.87692    24.5712    31.22550   24.7722   40.745800 \n",
              "2 93.4291    92.11650   94.59080   107.0380   121.44900  139.3230    0.960904 \n",
              "3  0.0000     0.00000    0.00000     0.0000     0.00000    0.0000    0.000000 \n",
              "4 37.9544    22.43050   23.34200    42.2728    23.85790   32.4989   15.721000 \n",
              "5  0.0000     0.00000    0.00000     0.0000     0.00000    0.0000    0.000000 \n",
              "6 11.7348     5.61334    7.52622     6.2115     6.20216   28.3024   39.470500 \n",
              "  GSM1377866 GSM1377867 GSM1377868 ⋯ GSM1377905 GSM1377906 GSM1377907\n",
              "1  38.41550   43.4644    32.3039   ⋯  28.04380   5.55538    16.9205  \n",
              "2 162.72700  121.1760   132.2440   ⋯ 112.88000  27.00820   105.0870  \n",
              "3   0.00000    0.0000     0.0000   ⋯   0.00000   0.00000     0.0000  \n",
              "4  37.73550   48.2360    34.3155   ⋯   1.08452   0.00000     0.0000  \n",
              "5   1.19912    0.0000     0.0000   ⋯   0.00000   0.00000     0.0000  \n",
              "6  37.35680   11.8725    27.3852   ⋯   0.00000   0.00000     0.0000  \n",
              "  GSM1377908 GSM1377909 GSM1377910 GSM1377911 GSM1377912 GSM1377913 GSM1377914\n",
              "1 14.552100  51.47380     1.285560 40.56320   0.00000    0.084052   0.000000  \n",
              "2 70.179700  41.61460   131.129000 56.93390   8.76009    3.831900   2.785230  \n",
              "3  0.261558   0.00000     0.000000  0.00000   0.00000    0.000000   0.000000  \n",
              "4  0.000000   4.74386     0.000000  2.09974   0.00000    0.000000   0.000000  \n",
              "5  0.000000   0.00000     0.000000  0.00000   0.00000    0.000000   0.000000  \n",
              "6  0.000000   3.39413     0.035212  9.44850   0.00000    0.000000   0.108556  "
            ]
          },
          "metadata": {}
        }
      ]
    },
    {
      "cell_type": "code",
      "source": [
        "scimpute(# full path to raw count matrix\n",
        "         count_path = gzfile(tmp), \n",
        "         infile = \"csv\",           # format of input file\n",
        "         outfile = \"csv\",          # format of output file\n",
        "         out_dir = \"./\",           # full path to output directory\n",
        "         labeled = FALSE,          # cell type labels not available\n",
        "         drop_thre = 0.5,          # threshold set on dropout probability\n",
        "         Kcluster = 2,             # 2 cell subpopulations\n",
        "         ncores = 10)              # number of cores used in parallel computation"
      ],
      "metadata": {
        "id": "93O_rfGJhhMo",
        "colab": {
          "base_uri": "https://localhost:8080/",
          "height": 98
        },
        "outputId": "fa42b24e-521f-4e4f-ddfd-8d1af6a231f2"
      },
      "execution_count": null,
      "outputs": [
        {
          "output_type": "error",
          "ename": "ERROR",
          "evalue": "ignored",
          "traceback": [
            "Error in scimpute(count_path = gzfile(tmp), infile = \"csv\", outfile = \"csv\", : could not find function \"scimpute\"\nTraceback:\n"
          ]
        }
      ]
    },
    {
      "cell_type": "code",
      "source": [
        ""
      ],
      "metadata": {
        "id": "WUu5H2dnvvbs"
      },
      "execution_count": null,
      "outputs": []
    }
  ]
}